{
 "cells": [
  {
   "cell_type": "code",
   "execution_count": 1,
   "id": "e2a9baa9-546a-4eb9-ba6e-8e1e6bd5ad1b",
   "metadata": {},
   "outputs": [],
   "source": [
    "import numpy as np\n",
    "import pandas as pd\n",
    "import scipy\n",
    "import numpy.matlib as ml\n",
    "import matplotlib.pyplot as plt"
   ]
  },
  {
   "cell_type": "code",
   "execution_count": 2,
   "id": "61015ca4-ea22-4320-b5a1-7136026d3c28",
   "metadata": {},
   "outputs": [],
   "source": [
    "csv_path = '../landmarks_0168_NewAug3Stacks2Block3_E450.csv'\n",
    "pkl_path = '../landmarks_0168_NewAug3Stacks2Block3_E450_confidence.pkl'\n",
    "\n",
    "mat_path = csv_path[:-4]+'.mat'"
   ]
  },
  {
   "cell_type": "markdown",
   "id": "74aff343-18d0-4bb0-b9bf-e0463b721e64",
   "metadata": {
    "jp-MarkdownHeadingCollapsed": true,
    "tags": []
   },
   "source": [
    "# Data for Animals3D"
   ]
  },
  {
   "cell_type": "code",
   "execution_count": 3,
   "id": "77753c6c-10bc-4a1e-bb5b-1021a81939f6",
   "metadata": {},
   "outputs": [],
   "source": [
    "csv_data = pd.read_csv(csv_path, skiprows=1)\n",
    "csv_data = csv_data.drop(['dim'], axis=1)"
   ]
  },
  {
   "cell_type": "code",
   "execution_count": 4,
   "id": "e9f3010f-16b7-4ed9-83c2-d4ff503faa22",
   "metadata": {},
   "outputs": [],
   "source": [
    "mat_data = {'coords2d':np.zeros((len(csv_data.columns), len(csv_data)))}"
   ]
  },
  {
   "cell_type": "code",
   "execution_count": 51,
   "id": "ab8dc6c3-41cd-4c65-a2f7-56d2747a51d4",
   "metadata": {},
   "outputs": [],
   "source": [
    "for i in range(len(csv_data.columns)):\n",
    "    mat_data['coords2d'][i] = csv_data[csv_data.columns[i]].values"
   ]
  },
  {
   "cell_type": "code",
   "execution_count": 100,
   "id": "b7d55444-d33a-43ab-b1d5-b5ace2fcdd29",
   "metadata": {},
   "outputs": [],
   "source": [
    "mat_data = np.zeros(((len(csv_data.columns))//2, len(csv_data), 2))\n",
    "i = 0\n",
    "j = 0\n",
    "while j < mat_data.shape[0]:\n",
    "    mat_data[j] = np.vstack(csv_data[csv_data.columns[i:i+2]].values)\n",
    "    i += 2\n",
    "    j += 1"
   ]
  },
  {
   "cell_type": "code",
   "execution_count": 3,
   "id": "c81e0aa3-0437-4da2-9a38-778c9d27a7f3",
   "metadata": {},
   "outputs": [
    {
     "ename": "NameError",
     "evalue": "name 'mat_data' is not defined",
     "output_type": "error",
     "traceback": [
      "\u001b[1;31m---------------------------------------------------------------------------\u001b[0m",
      "\u001b[1;31mNameError\u001b[0m                                 Traceback (most recent call last)",
      "Cell \u001b[1;32mIn[3], line 1\u001b[0m\n\u001b[1;32m----> 1\u001b[0m scipy\u001b[38;5;241m.\u001b[39mio\u001b[38;5;241m.\u001b[39msavemat(mat_path,\u001b[43mmat_data\u001b[49m)\n",
      "\u001b[1;31mNameError\u001b[0m: name 'mat_data' is not defined"
     ]
    }
   ],
   "source": [
    "scipy.io.savemat(mat_path,mat_data)"
   ]
  },
  {
   "cell_type": "markdown",
   "id": "b3515fcb-d0e2-4880-9901-fb2dcd09af95",
   "metadata": {},
   "source": [
    "# Data for (H)ACA"
   ]
  },
  {
   "cell_type": "code",
   "execution_count": 3,
   "id": "34e09643-29bf-4265-b2e1-34092efc7dc0",
   "metadata": {},
   "outputs": [],
   "source": [
    "# Helper function to return indexes of nans\n",
    "def nan_helper(y):\n",
    "    '''\n",
    "    Helper returning indeces of Nans\n",
    "    '''\n",
    "    return np.isnan(y), lambda z: z.nonzero()[0]\n",
    "\n",
    "\n",
    "# Interpolates all nan values of given array\n",
    "def interpol(arr):\n",
    "    '''\n",
    "    Custom interplation function\n",
    "    Interpolates only over Nans\n",
    "    '''\n",
    "\n",
    "    y = np.transpose(arr)\n",
    "\n",
    "    nans, x = nan_helper(y[0])\n",
    "    y[0][nans] = np.interp(x(nans), x(~nans), y[0][~nans])\n",
    "    nans, x = nan_helper(y[1])\n",
    "    y[1][nans] = np.interp(x(nans), x(~nans), y[1][~nans])\n",
    "\n",
    "    arr = np.transpose(y)\n",
    "\n",
    "    return arr\n",
    "\n",
    "\n",
    "def smooth_landmarks(data_mat, confidence=0.5, savgol_window = 5, savgol_order = 1, smooth=False):\n",
    "    '''\n",
    "    Use for better results when using the DLC outputs\n",
    "    Replaces low likelihood points with Nans and interpolates over them\n",
    "\n",
    "    params:\n",
    "    data_mat: the landmarks array in the format [[x11, y11, l11, x12, y12, l12, x13, y13, l13], ...]\n",
    "    where x11,y11,l11 - a joint; x12,y12,l12 - another joint and etc. the first index is time.\n",
    "    (achieved by pd.DataFrame.to_numpy())\n",
    "    be careful to pass a copy unless you want and accept changes in the original array\n",
    "\n",
    "    returns:\n",
    "    smooth array\n",
    "    '''\n",
    "\n",
    "    pose_list = []\n",
    "\n",
    "    for i in range(int(data_mat.shape[1] / 3)):\n",
    "        pose_list.append(data_mat[:, i * 3 : (i + 1) * 3])\n",
    "    \n",
    "    for i in pose_list:\n",
    "        for j in i:\n",
    "            if j[2] <= confidence:\n",
    "                j[0], j[1] = np.nan, np.nan\n",
    "    # interpolate over low confidence areas\n",
    "    for i in pose_list:\n",
    "        i = interpol(i)\n",
    "        # smooth after interpolation:\n",
    "        if smooth:\n",
    "            logging.info('smoothing...')\n",
    "            i[:,0] = savgol_filter(i[:,0], savgol_window, savgol_order)\n",
    "            i[:,1] = savgol_filter(i[:,1], savgol_window, savgol_order)\n",
    "\n",
    "    return pose_list"
   ]
  },
  {
   "cell_type": "code",
   "execution_count": 4,
   "id": "1bb8d6fa-8c8f-40e9-ad9c-c969ec0cf231",
   "metadata": {},
   "outputs": [],
   "source": [
    "def lfm_matrix(x, y):\n",
    "    x_h = ml.repmat(x.astype(np.float32), len(x),1)\n",
    "    x_v = x_h.T\n",
    "    x_d = (x_h-x_v)**2\n",
    "    y_h = ml.repmat(y.astype(np.float32), len(y),1)\n",
    "    y_v = y_h.T\n",
    "    y_d = (y_h-y_v)**2\n",
    "    return np.sqrt(y_d+x_d)"
   ]
  },
  {
   "cell_type": "code",
   "execution_count": 5,
   "id": "1def3476-e76e-4228-b22e-da4b5dcecb0d",
   "metadata": {},
   "outputs": [],
   "source": [
    "pkl = pd.read_pickle(pkl_path, compression='infer')"
   ]
  },
  {
   "cell_type": "code",
   "execution_count": 6,
   "id": "64005852-4a20-4894-a467-02ad9d37baff",
   "metadata": {},
   "outputs": [],
   "source": [
    "pkl_data = []\n",
    "for i in range(len(pkl['orig_lm'])):\n",
    "    temp = []\n",
    "    curr = pkl['orig_lm'][i]\n",
    "    for j in range(len(curr)):\n",
    "        temp = np.r_[temp, curr[j][0],curr[j][1],pkl['confidence']['conf'][i][j]]\n",
    "    pkl_data.append(temp)"
   ]
  },
  {
   "cell_type": "code",
   "execution_count": 7,
   "id": "99d9d15c-daf0-420b-b493-29d6b1ca8e20",
   "metadata": {},
   "outputs": [],
   "source": [
    "pkl_data = np.array(pkl_data)"
   ]
  },
  {
   "cell_type": "code",
   "execution_count": 8,
   "id": "75f7f486-f9a6-45d5-a0a6-4120ffa228cc",
   "metadata": {},
   "outputs": [],
   "source": [
    "smooth_pkl_data = smooth_landmarks(pkl_data, confidence=0.5, savgol_window = 5, savgol_order = 1, smooth=False)"
   ]
  },
  {
   "cell_type": "code",
   "execution_count": 9,
   "id": "499b113d-42a0-4665-a487-596a854b91e1",
   "metadata": {},
   "outputs": [],
   "source": [
    "smooth_pkl_data = np.array(smooth_pkl_data)"
   ]
  },
  {
   "cell_type": "code",
   "execution_count": 10,
   "id": "f65a2487-0bd7-48f1-b270-06c67834dc02",
   "metadata": {},
   "outputs": [],
   "source": [
    "distance_data = []\n",
    "for j in range(smooth_pkl_data.shape[1]):\n",
    "    xs = np.array([i[j,0] for i in smooth_pkl_data])\n",
    "    ys = np.array([i[j,1] for i in smooth_pkl_data])\n",
    "    distances = lfm_matrix(xs, ys)\n",
    "    distance_data.append(distances[np.tril_indices_from(distances, k=-1)])"
   ]
  },
  {
   "cell_type": "code",
   "execution_count": 11,
   "id": "7dd22c57-9b82-43aa-af4b-469aaec656ef",
   "metadata": {},
   "outputs": [
    {
     "data": {
      "text/plain": [
       "(136, 236272)"
      ]
     },
     "execution_count": 11,
     "metadata": {},
     "output_type": "execute_result"
    }
   ],
   "source": [
    "distance_data = np.array(distance_data).T\n",
    "distance_data.shape"
   ]
  },
  {
   "cell_type": "code",
   "execution_count": 12,
   "id": "23309255-5940-46cb-b2e7-4b5a8374c1be",
   "metadata": {},
   "outputs": [
    {
     "name": "stderr",
     "output_type": "stream",
     "text": [
      "C:\\Users\\lab\\AppData\\Local\\Temp\\ipykernel_4948\\2731162379.py:1: DtypeWarning: Columns (0,1,2,3,4,5,6,7,8,9,10,11,12,13,14,15,16,17,18,19,20,21,22,23,24,25,26,27,28,29,30,31,32,33,34) have mixed types. Specify dtype option on import or set low_memory=False.\n",
      "  df = pd.read_csv(csv_path)\n"
     ]
    }
   ],
   "source": [
    "df = pd.read_csv(csv_path)"
   ]
  },
  {
   "cell_type": "code",
   "execution_count": 13,
   "id": "2685a618-3a40-41bb-8b81-ee52305907f0",
   "metadata": {},
   "outputs": [],
   "source": [
    "bodyparts = df.columns[1::2]"
   ]
  },
  {
   "cell_type": "code",
   "execution_count": 14,
   "id": "d114d195-912b-4c47-81b8-e0cb1955f950",
   "metadata": {},
   "outputs": [],
   "source": [
    "distances_names = []\n",
    "for e,bd in enumerate(bodyparts):\n",
    "    distances_names.append([f'{bd}_{bd2}'.lower() for bd2 in bodyparts])\n",
    "distances_names = np.array(distances_names)\n",
    "distances_names = distances_names[np.tril_indices_from(distances_names, k=-1)]"
   ]
  },
  {
   "cell_type": "code",
   "execution_count": 15,
   "id": "c48f6702-34ee-40d2-af59-b37f157af725",
   "metadata": {},
   "outputs": [],
   "source": [
    "distances_to_save = ['forepawr1_nose', 'forepawl1_nose', 'forepawl1_forepawr1', 'hindpawr1_nose', 'hindpawl1_nose', 'hindpawr1_forepawr1', 'hindpawl1_forepawl1', 'hindpawl1_hindpawr1']"
   ]
  },
  {
   "cell_type": "code",
   "execution_count": 16,
   "id": "458d3d39-e1f8-4deb-b7b7-56cf8d3ac3cb",
   "metadata": {},
   "outputs": [],
   "source": [
    "distances_to_save_idx = [np.where(distances_names==ele)[0][0] for ele in distances_to_save]"
   ]
  },
  {
   "cell_type": "code",
   "execution_count": 17,
   "id": "42545351-77f5-4976-af30-c025395a5678",
   "metadata": {},
   "outputs": [],
   "source": [
    "%matplotlib widget"
   ]
  },
  {
   "cell_type": "code",
   "execution_count": 25,
   "id": "a6b57f50-1572-460a-8aa6-05efae2d4250",
   "metadata": {},
   "outputs": [
    {
     "data": {
      "application/vnd.jupyter.widget-view+json": {
       "model_id": "8296e2eeebb44ec6bc59881584ab493a",
       "version_major": 2,
       "version_minor": 0
      },
      "image/png": "[encoded data removed]",
      "text/html": [
       "\n",
       "            <div style=\"display: inline-block;\">\n",
       "                <div class=\"jupyter-widgets widget-label\" style=\"text-align: center;\">\n",
       "                    Figure\n",
       "                </div>\n",
       "                <img src='data:image/png;base64,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' width=640.0/>\n",
       "            </div>\n",
       "        "
      ],
      "text/plain": [
       "Canvas(toolbar=Toolbar(toolitems=[('Home', 'Reset original view', 'home', 'home'), ('Back', 'Back to previous …"
      ]
     },
     "metadata": {},
     "output_type": "display_data"
    }
   ],
   "source": [
    "plt.figure()\n",
    "temp = distance_data[distances_to_save_idx, :].astype(np.double)\n",
    "# for t in temp:\n",
    "#     plt.plot(np.arange(0, temp.shape[1]/120, 1/120), t);"
   ]
  },
  {
   "cell_type": "code",
   "execution_count": 24,
   "id": "81620d13-d408-47ca-b0e6-22cb957fb516",
   "metadata": {},
   "outputs": [
    {
     "data": {
      "text/plain": [
       "(8, 236272)"
      ]
     },
     "execution_count": 24,
     "metadata": {},
     "output_type": "execute_result"
    }
   ],
   "source": [
    "temp.shape"
   ]
  },
  {
   "cell_type": "markdown",
   "id": "7ae49363-4d9a-4653-a790-6feac810796c",
   "metadata": {},
   "source": [
    "1. Requires tempo reduction for (H)ACA to be able to process: {maxFrames=5} 236272 -> 45272; \n",
    "\n",
    "tempo reduction can be twicked: \n",
    "\n",
    "a. more frames merged... {6=5%} 236272 -> 39378, {12=10%} 236272 -> 19689 - chance to lose information\n",
    "\n",
    "b. more clusters for frames... - more clusters allows for more subtle frame reduction\n",
    "\n",
    "Tempo reduction also takes times. It utilizes KMeans\n",
    "\n",
    "\n",
    "2. Even with tempo reduction needs chunking, else breaks the computer"
   ]
  },
  {
   "cell_type": "code",
   "execution_count": 23,
   "id": "8ea4d8d1-fc5e-44a6-b686-4ee258cac2c0",
   "metadata": {},
   "outputs": [],
   "source": [
    "scipy.io.savemat('../sample_real_data.mat', {'XD':temp})"
   ]
  },
  {
   "cell_type": "markdown",
   "id": "afeaf975-486f-451b-b55c-3586af9fd316",
   "metadata": {},
   "source": [
    "# Temporal reduction"
   ]
  },
  {
   "cell_type": "code",
   "execution_count": 20,
   "id": "78002c10-ab7c-4cec-a245-28bbddca46ef",
   "metadata": {},
   "outputs": [],
   "source": [
    "from sklearn.cluster import KMeans"
   ]
  },
  {
   "cell_type": "markdown",
   "id": "a7534d76-8c6a-474b-ab37-634db994db55",
   "metadata": {},
   "source": [
    "do i want to centrelize each sample or each feature?"
   ]
  },
  {
   "cell_type": "code",
   "execution_count": 51,
   "id": "eea0f1a3-df82-4b47-9a87-c21be61cbd02",
   "metadata": {},
   "outputs": [],
   "source": [
    "def zero_center(matrix0, dire=0):\n",
    "    '''\n",
    "    Centerize the matrix to the zeros.\n",
    "\n",
    "    Input\n",
    "    matrix  -  original sample matrix, dim x n\n",
    "    dire    -  0 or non-indicated means the samples are stored in the columns\n",
    "            -  1 means in the rows\n",
    "\n",
    "    Output\n",
    "    matrix1       -  new sample matrix, dim x n\n",
    "    '''\n",
    "\n",
    "    if dire == 1:\n",
    "        matrix0 = matrix0.T\n",
    "\n",
    "    me = np.mean(matrix0, axis=1)\n",
    "    matrix1 = matrix0 - me\n",
    "\n",
    "    if dire == 1:\n",
    "        matrix1 = matrix1.T\n",
    "    \n",
    "    return matrix1"
   ]
  },
  {
   "cell_type": "code",
   "execution_count": 52,
   "id": "a3528b7c-fe63-4306-824d-99047243e3c7",
   "metadata": {},
   "outputs": [
    {
     "ename": "ValueError",
     "evalue": "operands could not be broadcast together with shapes (236272,8) (236272,) ",
     "output_type": "error",
     "traceback": [
      "\u001b[1;31m---------------------------------------------------------------------------\u001b[0m",
      "\u001b[1;31mValueError\u001b[0m                                Traceback (most recent call last)",
      "Cell \u001b[1;32mIn[52], line 1\u001b[0m\n\u001b[1;32m----> 1\u001b[0m temp1 \u001b[38;5;241m=\u001b[39m \u001b[43mzero_center\u001b[49m\u001b[43m(\u001b[49m\u001b[43mtemp\u001b[49m\u001b[38;5;241;43m.\u001b[39;49m\u001b[43mT\u001b[49m\u001b[43m)\u001b[49m\n",
      "Cell \u001b[1;32mIn[51], line 18\u001b[0m, in \u001b[0;36mzero_center\u001b[1;34m(matrix0, dire)\u001b[0m\n\u001b[0;32m     15\u001b[0m     matrix0 \u001b[38;5;241m=\u001b[39m matrix0\u001b[38;5;241m.\u001b[39mT\n\u001b[0;32m     17\u001b[0m me \u001b[38;5;241m=\u001b[39m np\u001b[38;5;241m.\u001b[39mmean(matrix0, axis\u001b[38;5;241m=\u001b[39m\u001b[38;5;241m1\u001b[39m)\n\u001b[1;32m---> 18\u001b[0m matrix1 \u001b[38;5;241m=\u001b[39m \u001b[43mmatrix0\u001b[49m\u001b[43m \u001b[49m\u001b[38;5;241;43m-\u001b[39;49m\u001b[43m \u001b[49m\u001b[43mme\u001b[49m\n\u001b[0;32m     20\u001b[0m \u001b[38;5;28;01mif\u001b[39;00m dire \u001b[38;5;241m==\u001b[39m \u001b[38;5;241m1\u001b[39m:\n\u001b[0;32m     21\u001b[0m     matrix1 \u001b[38;5;241m=\u001b[39m matrix1\u001b[38;5;241m.\u001b[39mT\n",
      "\u001b[1;31mValueError\u001b[0m: operands could not be broadcast together with shapes (236272,8) (236272,) "
     ]
    }
   ],
   "source": [
    "temp1 = zero_center(temp.T)"
   ]
  },
  {
   "cell_type": "code",
   "execution_count": 50,
   "id": "cce4edf5-01e3-49c0-acb0-fc451cc04b43",
   "metadata": {},
   "outputs": [
    {
     "data": {
      "text/plain": [
       "(236272, 8)"
      ]
     },
     "execution_count": 50,
     "metadata": {},
     "output_type": "execute_result"
    }
   ],
   "source": [
    "temp1.shape"
   ]
  },
  {
   "cell_type": "code",
   "execution_count": 49,
   "id": "a2b55b61-cb19-42ff-986c-4b8377da22c7",
   "metadata": {},
   "outputs": [
    {
     "data": {
      "application/vnd.jupyter.widget-view+json": {
       "model_id": "dc02df5a81ef44d788872a6b6256026b",
       "version_major": 2,
       "version_minor": 0
      },
      "image/png": "[encoded data removed]",
      "text/html": [
       "\n",
       "            <div style=\"display: inline-block;\">\n",
       "                <div class=\"jupyter-widgets widget-label\" style=\"text-align: center;\">\n",
       "                    Figure\n",
       "                </div>\n",
       "                <img src='data:image/png;base64,iVBORw0KGgoAAAANSUhEUgAAAoAAAAHgCAYAAAA10dzkAAAAOXRFWHRTb2Z0d2FyZQBNYXRwbG90bGliIHZlcnNpb24zLjYuMywgaHR0cHM6Ly9tYXRwbG90bGliLm9yZy/P9b71AAAACXBIWXMAAA9hAAAPYQGoP6dpAACNR0lEQVR4nO3dd3zV5fn/8dc5J3uTQBZbBMImDBHBjSKIe4vVWqtVoVbpr8N+rW2tLa1t1Wqt1to6qogTByqKoOBgBsLeImElAUImZJzx++OTc5JgQtY553PG+/l45HEO55yccxPx5Dr3dV/XZXG5XC5EREREJGxYzV6AiIiIiPiXAkARERGRMKMAUERERCTMKAAUERERCTMKAEVERETCjAJAERERkTCjAFBEREQkzCgAFBEREQkzCgBFREREwowCQBEREZEwowBQREREJMwoABQREREJMwoARURERMJMhNkL8Ban08mBAwdITEzEYrGYvRwRMYnL5aKiooLs7Gys1uD+jKv3NRHx1XtayASABw4coGfPnmYvQ0QCxN69e+nRo4fZy+gUva+JiJu339NCJgBMTEwEjB9QUlKSyasREbOUl5fTs2dPz3tCMNP7moj46j0tZAJAd3okKSlJb5QiEhIpU72viYibt9/TgvuAjIiIiIi0mwJAERERkTCjAFBEREQkzHQ6AJw9ezZjx44lMTGR9PR0Lr/8crZt29bkMeeccw4Wi6XJ15133tnkMQUFBVx88cXExcWRnp7Oz372M+x2e2eXJyIiIiIn6HQRyJIlS5gxYwZjx47Fbrfzq1/9igsvvJDNmzcTHx/vedztt9/OQw895PlzXFyc57rD4eDiiy8mMzOTr7/+moMHD3LzzTcTGRnJH//4x84uUUREREQa6XQAuGDBgiZ/fuGFF0hPTycvL4+zzjrLc3tcXByZmZnNPscnn3zC5s2b+fTTT8nIyGDkyJH8/ve/5xe/+AW//e1viYqK6uwyRURERKSe188AlpWVAZCamtrk9ldeeYWuXbsydOhQ7r//fo4dO+a5b9myZQwbNoyMjAzPbZMnT6a8vJxNmzY1+zo1NTWUl5c3+RIRERGR1nm1D6DT6eTee+9lwoQJDB061HP7jTfeSO/evcnOzmb9+vX84he/YNu2bbz99tsAFBYWNgn+AM+fCwsLm32t2bNn87vf/c6byxcREREJC14NAGfMmMHGjRv58ssvm9x+xx13eK4PGzaMrKwszj//fHbt2kW/fv069Fr3338/s2bN8vzZ3SlbRERERE7OayngmTNnMn/+fD777LNWZ9WNGzcOgJ07dwKQmZlJUVFRk8e4/9zSucHo6GhPd3x1yRcRERFpu04HgC6Xi5kzZzJv3jwWL15M3759W/2e/Px8ALKysgAYP348GzZsoLi42POYhQsXkpSUxODBgzu7RBERERFppNMp4BkzZjBnzhzeffddEhMTPWf2kpOTiY2NZdeuXcyZM4epU6eSlpbG+vXrue+++zjrrLMYPnw4ABdeeCGDBw/me9/7Ho888giFhYU88MADzJgxg+jo6M4uUUREREQa6fQO4NNPP01ZWRnnnHMOWVlZnq/XXnsNgKioKD799FMuvPBCcnJy+OlPf8pVV13F+++/73kOm83G/PnzsdlsjB8/nptuuombb765Sd9AEREREfGOTu8Aulyuk97fs2dPlixZ0urz9O7dmw8//LCzyxERERGRVmgWsIiIiEiYUQAoAaGiuo7fz9/MzuIKs5ciIiI+UmN38OjC7byVt6/VDKL4llf7AIp01Jt5+/jPl7vZsK+M1+8cb/ZyRETEB55YtIOnPtsFwOKtxfzpqmEkxkSavKrwpB1ACQj7jx4HYOW3JRwoPW7yakRExNvW7yvlmSXfAGC1wAcbDnLJk1+y6UCZySsLTwoAJSAUVdR4rs9ff8DElYjA0qVLueSSS8jOzsZisfDOO+947qurq+MXv/gFw4YNIz4+nuzsbG6++WYOHGj677akpITp06eTlJRESkoKt912G5WVlX7+m4gEhhq7g//3xjocThfThmfx5l1nkJ0cw7dHjnHFP79mzooCpYT9TAGgBISi8mrP9ffXHTRxJSJQVVXFiBEjeOqpp75z37Fjx1izZg2//vWvWbNmDW+//Tbbtm3j0ksvbfK46dOns2nTJhYuXMj8+fNZunRpk7GY4cbpdLH8myMs2HiQw5U1rX+DhJQnF+1ke1ElafFR/O7SIYzq1YUP7jmT83LSqbU7+dW8Ddz7Wj5VNXazlxo2LK4QCbnLy8tJTk6mrKxMY+GC0Dl/+Yxvjxzz/Pmz/3cOfbvGm7giCVbefi+wWCzMmzePyy+/vMXHrFq1itNOO409e/bQq1cvtmzZwuDBg1m1ahVjxowBYMGCBUydOpV9+/aRnZ1tyt/FDHuOVPFW3j7eWrOf/Y2OdwzMSGR8vzTO6JfGuFPSSI7t/DmwJdsP8dwX39A9JZZT0xPol57Aqd0S6J4Si9Vq6fTzC+wtOcbLK/YwbVg2w3okt+l71u8r5Yp/fo3D6eLp6aOYMizLc5/T6eLZL77hLx9vw+F0cUq3eP45fRQ5mcH5790XfPU+oCIQMZ3L5aKwfgfwlG7xfHOoivfyD/CTSf1NXplI25SVlWGxWEhJSQFg2bJlpKSkeII/gEmTJmG1WlmxYgVXXHFFs89TU1NDTU3D7lh5eblP1+0rlTV2PtxwkDfz9rFyd4nn9sSYCLqnxLK1sIJtRcbXC19/i9UCQ7snM75fGufnZHBa39R2v+bn24q546U8ah3O79wXG2mjX3o8p3ZLYEBmIleP7kF6Ykyn/o7h6ONNhfzsjXWUV9t54atveeKGXCYPyTzp99TYHfzsjfWe1G/j4A/AarVw59n9GN27Cz+es5ZvDlVx+VNfMfvKYVyR28OXf52wpwBQTFdebae6znjTvm1iX/5v3kbeW7efe84/FYtFn9olsFVXV/OLX/yCG264wfPpvLCwkPT09CaPi4iIIDU11TMuszmzZ8/md7/7XYfW4XK5mL/+IFOGZhJhM+d0z7q9pby47Fs+2lDI8ToHABYLnNm/G1eP7sGFgzOIibRRUlXL8m+O8PWuw3y98wjfHK5i/b4y1u8r419LvuH2M/vyyymDsLVx1+7LHYe5439G8Hd+TjpDspPYeaiSHUWVfHukiuN1DjbuL2fjfiOgfnbpNzx8+VCmDW/bTmy4q7U7+dNHW/nvV7sBSI6NpOx4HXe+nMdvLxnCLWf0afF7n1y0k21FFZ7Ub0vG9knlg3smct/r61i6/RA/fX0d6YkxTDi1q7f/OlJPAaCYrrh+9y85NpJLR2Tzu/c3s+tQFVsOVjA4W2kACVx1dXVce+21uFwunn766U4/3/3338+sWbM8fy4vL6dnz55t+t6/frKNpz7bxeUjs/nbtSPbHDx5y2fbirn9xdXYncapolO6xXP16B5ckdudrOTYJo9NjY9i6rAsptbvBh0sO86yXUf4fNsh3lt3gH9/sZvdh6v4+/W5xEef/NfUsl1H+OFLq6i1O5k0KIN/Th9FVERDAFzncFJQcoydxZXsLK5k/vqDbDlYzsw5a1mwsZDfXzaULvFRXv5phI69JceYOWcN6/YZlbp3nHUKsy4YwEPzNzNnRQG/eW8T+0uP88uLcr6TZt+wr4ynlxgtXx6+fChpCdEnfa20hGhe+P5Yfvbmet5as497Xl3LB/ecSWaydmt9QUUgYrqiciPllZEUTWJMJOcNNHZO3lunamAJXO7gb8+ePSxcuLDJ2ZzMzEyKi4ubPN5ut1NSUkJmZssps+joaJKSkpp8tdWIHilEWC28k3+AX761HqfTf8e78/aUcNfLedidLs7LSeftu89g0ayzufucU78T/DUnKzmWK0f14IkbcnnihlyiIqx8uqWYq59Z1uTc4IlWfVvCbS+uorrOybkDu/HU9NwmwR9ApM1Kv24JTB6SyYxzT+XdGRO45/z+2KwW5q8/yIWPL+XTzUWd/hmEoo83FXLxE1+wbl8ZybGRPHfzGH41dRAxkTb+cPlQfjZ5IGDsqN4zdy3V9bu+0LTq9+JmUr8tsVot/OGKoQzKSuJIVS0z5qyhrpm0vnSeAkAxnbsCOCPJ+JR36UgjLfP+ugNqCyAByR387dixg08//ZS0tLQm948fP57S0lLy8vI8ty1evBin08m4ceN8sqYLh2Ty9+tzsVrgjbx9PPDuRr/8/7O1sJxbnzeCsHMGduNf3xvNqF5dOnx849IR2cy943S6JkSx5WA5l/3jK/L3ln7ncXl7jvL9/67kWK2DM/t35embRhMdYWv1+aMirMy6YADz7j6DU9MTOFRRww9fWl1/tq2uQ2sONbV2Jw+9v5kf/S+P8mo7I3um8ME9E5k0OMPzGIvFwoxzT+Wx60YQaTOC6Zv/u5LSY7UA/GNxQ+r3oZOkfpsTE2nj6emjSIyOIG/PUWZ/uNWrfz8xKAAU07kLQNyHss/LSSc+ysb+0uOsKThq5tIkTFVWVpKfn09+fj4Au3fvJj8/n4KCAurq6rj66qtZvXo1r7zyCg6Hg8LCQgoLC6mtNX75DRo0iIsuuojbb7+dlStX8tVXXzFz5kyuv/76NlcAd8TFw7N47LqRWCwwZ0UBv3t/s0+DwIIjx7j5Pyspr7YzpncXnp4+mkgvnD8c1asL78yYQE5mIocra7juX8ua9Addt7eU7/93JVW1Ds7ol8a/bx5DTGTrwV9jw3ukMP/HE7njrFOw1AfNUx7/gq92Hu70+oPZ3pJjXPOvZZ7zfref2ZfXfzSeHl3imn38Fbk9ePHW00iMjmDl7hKufmYZCzYe5J+fG6nf37ch9ducPl3j+eu1IwD471e7+WC92oN5mwJAMV2xZwfQeJOIibRxYX1lmXoCihlWr15Nbm4uubm5AMyaNYvc3FwefPBB9u/fz3vvvce+ffsYOXIkWVlZnq+vv/7a8xyvvPIKOTk5nH/++UydOpWJEyfy7LPP+nztl43sziNXDQfgha+/ZfZHW30SBBZXVPO9/66guKKGnMxE/nPLWGKj2heEnUyPLnG8edcZnJeTTo3dycw5a3li0Q427i/je/9ZQUWNndP6pvLcLe0P/txiIm38auogXrtjPL1S49hfepzpz63gt+9tapLODBcLNhYy9YkvWLe3lOTYSP598xj+7+LB30mrn+iMU7vyxl3jyUqOYWdxJXe+vMaT+p3axtRvcyYPyeRHZ58CwM/fXMeuQ2qk7k3qAyimu/N/eSzYVMhDlw3h5vF9APhsazG3vrCKrgnRLL//PNOqGiX4hNJ7QWf+LnNWFPCreRsAmHFuP/7fhQO9VlVfdryO659dzpaD5fRMjeWtO88gPck3B/UdThd//HAL//nS2JGKsFqwO12M7t2FF39wGgmtFIm0VVWNndkfbeHl5QUAnJqewOPXjWRo97b1ugtmNXYHsz/cygtffwvAyJ4p/OPG3BZ3/VpysOw4tz6/iq2FRur3k/vO6tDuX2N2h5Ppz61gxe4SBmQk8M6MCcRFhVf9qq/e0/RbVUxXVNE0BQwwsX9XusRFcriyhuXflLT0rSLSghvH9eKhy4yzV099tosnFu30yvMer3XwwxdXseVgOV0Tonn5tnE+C/4AbFYLv542mD9cMRRbffA3smcKL9w61mvBH0B8dAQPXz6MF24dS7fEaHYWV3LFP7/in5/vxOHHghp/23OkiqufXuYJ/u446xTeuLPllO/JZCXH8vqd4/n5RQP5323jOh38AUTYrDx5Yy7dEqPZXlTJ/83zz9nWcBBeYbQEpOJGVcBukTYrU4ZlMWdFAe+t28/E/uoFJdJeN4/vQ63dycMfbOGxT7cTFWHlrnP6UWN3cKiihuKKGorLazhUUU1xRQ2HK2tIjImkZ5dYeqTG0bNLHD26xHpSrHUOJzPmrGHVt0dJjIngpR+cRu80/0zsmT6uNwMzEvly52FundCXxJjOTw5pzjkD0/n43rP41dsbWLCpkEcWbOPzrYf427Uj6Jna/qAokH2w/iC/fGs9FTV2usRF8rdrR3BeTkbr33gSSTGR3H3OqV5aoSE9MYZ/3JDLjc+tYN7a/Yzq3YXvnd7bq68RjpQCFlM5nS4GPPARdqeLr395HtkpDS0jln9zhOufXU5STASrHpjUpgo/kVB6L/DW3+Wfn+/kkQXbAEiJi6T0WPuqXdMTo+mZGofD6SJ/bynREVZe/uE4xvZp/8SOYOFyuXgjbx+/e28TVbUOEqIjeOiyIVyR2z3oG9RX1zl4+IPNnnT3mN5dePLG3Da17DHTs0t38ccPtxJls/LGneMZ0TPF7CX5hUbBSUgqOVaL3enCYoFuiU3TBWP7pJKRFE1ReQ1Ltx/mgsGd+2QqEq7uPudU6uwuHvt0uyf4i7RZSE+MoVtiNOmJ0aQnRZMWH01FtZ29R4+xt8T4qqp1GDuFFcZOvc1q4embRoV08AdGm5Nrx/Tk9L5p3Pd6Pnl7jjLr9XUs2lLMw5cHb/Po/L2l3P/2BrYcNKai3H1OP2ZdMCAozlnffuYp5O05ysebirjz5Tzm3nG633agQ5ECQDGVuwdgWnz0d9pH2KwWpg3P5j9f7ua9dQcUAIp0wk8m9eeK3O4cr3OQnhhNSlxkqztZLpeLo8fqjGDw6DH2HT3O8B7JnNEvfI5k9EqL47U7TueZJbt4/NMdfLDhIEu2H+L7Z/Thtol9gyIQrLU7+WjjQV74+lvWFpQCkBYfxaPXjeTsAd3MXVw7WCwW/nLNCHYUf8U3h6q49l/LeOWH4zg1PdHspQUlBYBiqubO/zV26QgjAPx0cxHHau1hV/0l4k290tp3hs1isZAaH0VqfFTYpNuaE2GzMvO8/pw1oBu/eMvYPfvHZzt5/qvd3HxGH24/8xRSAzAQPFxZw6srCvjf8j2eHdwom5VpI7L4xUU5nub7wSQpJpK5t5/OTf9ZwfaiSq7913Je+sFpYVGt7W2Bv+crIe3EKSAnGt4jmd5pcRyvc/DpluJmHyMi4g/De6TwwY8n8sxNoxmclURVrYOnP9/FxD8vZvaHWzhcWWP2EgHYuL+Mn76+jjNmL+ZvC7dTXFFDt8Ro7ps0gK9+eR6PXjsyKIM/t/SkGF67YzzDeyRTUlXLDf9eTt4edYtoLwWAYqrCE5pAn8hisXDJcGNywnv5mg0sIuayWi1cNDSTD+6ZyL9vHsOw7skcq3Xwr6XfMPHPi3l4/mbTAkGXy8X/zdvAtCe/5K01+6h1OBnRM4W/Xz+Sr35xHj+Z1P87Z62DVZf4KF754ThO65NKRbWdm55bGfZTXNpLAaCYqqg+Bdy4B+CJ3LOBl2wvpqyd1YsiIr5gsVi4YHAG782cwH+/P4YRPZKprnPy3Je7ufKfX1Nhwlzhf36+i1dWFGC1wGUjs5l39xm8O2MCl43s3uo0j2CUGBPJiz84jTP7d+V4nYNbX1jFp5uLzF5W0Ai9fxESVNxj4DKTWw4AB2QkkpOZSJ3DxYJNGg0nIoHDYrFwXk4G78yYwAu3jiU7OYaCkmM8PH+LX9fxwfqD/OVjo9XPQ5cN5e/X55Lbq4tf12CG2Cgbz90yhslDMqi1O7nz5TzeW6dsUVsoABRTuaeAtJQCdrtkhLELqNnAIhKILBYL5wxM59HrRmKxwGur97LQT7tR+XtLmfV6PgC3TujDTWHWJDk6wsZTN47iitzu2J0ufjJ3Lf9b9i11DqfZSwtoCgDFVIVlraeAAc85wK93Haa4PmgUEQk0p5+Sxg8n9gXg/rfXc8TH5wH3lx7nhy+upsbu5LycdB64eLBPXy9QRdis/O2aEUwf1wuXC3797ibGPPwpP319HZ9uLqK6zmH2EgOOAkAxTZ3DyZEqdxuYkweAvdLiGNkzBacLPlyvXUARCVw/vXAgAzMSOVxZy6/mbfDZ7NrKGju3vbCKw5U15GQm8sQNudiswT2lpDOsVgsPXz6Un00eSFp8FGXH63hrzT5++NJqRv9+IT9+dS0frD9IVY3d7KUGBAWAYprDlTW4XBBhtZDWhh5al9angXW+Q0QCWUykjUevG0GkzcLHm4p4a81+r7+Gw+ninlfXsrWwgq4J0fzn+2NJiFafVIvFwoxzT2Xl/01i7h2n8/0z+pCZFENVrYP31x1gxpw1jPr9Qu56OY/1+0rNXq6pFACKaRoqgKOxtuFT67ThWVgssKaglL0lx3y9PBGRDhuSncy9kwYA8Lv3NrHvqHffsx7+YDOLtxYTHWHluVvG0D0lsOf4+pvNauH0U9L47aVD+PqX5zHv7jP40Vmn0Cs1jhq7k482FnLpP77i9pdWe8bihRsFgGIadxPo9DY2JE1PiuH0vmkAzFcaWEQC3I/OOoVRvVKoqLHzszfW43R6JxX8v+V7eP6rbwF47LqRjAzjKS1tYbVayO3VhfunDmLJz87hg3smcmVud6wWWLi5iCl//4IZc9aws7jC7KX6lQJAMU1RK02gm+PuCag0sIgEugiblUevHUlspI1l3xzhv1/t7vRzLt1+iN++twmAn00eyNRhWZ1+znBisVgYkp3Mo9eN5JP7zuLi4cbP74P1B7nwsaXMei2fbw9XmbxK/1AAKKZpbQxcc6YMzSTSZmHLwfKw+7QmIsGnT9d4/u/iQQA88vE2dhR1/H1r4/4y7n5lDQ6ni6tG9eDuc/p5a5lh6dT0RJ66cRQf/eRMLhycgdMFb6/dz/mPLuH+t9eHfLGIAkAxjfsMYHsCwJS4KM7q3w3QaDgRCQ7Tx/Xi7AHdqLU7ue/1fGrt7e9Pt+dIFd9/fiWVNXbGn5LGH68cisUSvhW/3jQoK4lnbx7DezMncM7AbjicLl5duZf/m7fB7KX5lAJAMU1HdgChUVPo9Qd91l5BRMRbLBYLj1w9nJS4SDbuL+fxT7e36/sPVdTwvf+s5HBlLYOzknj25tFER9h8tNrwNbxHCi/cehov3DoWm9XCO/kHeGet9yu4A4UCQDFNsWcHsH3DyS8YnEFMpJXdh6vYuD88q7dEJLhkJMXw8OVDAWNm7/97Yx3HaltPMVZU1/H951dSUHKMXqlxvPCDsSTGRPp6uWHtnIHp3HNefwAeeGdjyHadUAAopins4A5gfHQE5w/KAOC9daH76UxEQsu04dn8bPJArBZ4M28fl/7jK7YWtvwhtsbu4Ef/y2PTgXK6JkTx0g9Oa3VqknjHjHP7MaZ3Fypr7Pxk7lrsIThWTgGgmKK6zkHZ8ToAMjrwhuZuCj1//UGvtVYQEfG1GeeeypzbTycjKZqdxZVc9o+veHVlwXeOszicLu57LZ+vdx0hPsrGC7eeRp+u8SatOvxE2Kw8dt1IEqMjWFNQyhOLd5q9JK9TACimcKd/YyKtJMW2v3v92QO6kRgdwcGyalbvOert5YmI+Mzpp6Tx4T1ncs7AbtTYndz/9gbumZtPRbXxodjlcvG79zfx4YZCIm0Wnr15DEO7J5u86vDTMzWOh68w0vb/WLyDVd+WmLwi71IAKKYoqmhI/3akki0m0sbkoZmA0sAiEnzSEqL57y1juX9KDhFWC++vO8C0J79kw74y/rF4Jy8t24PFYjR6nnBqV7OXG7YuG9mdK0d1x+mCe+fmezJXoUABoJjCUwHcifMs7jTwhxsKqQvB8xkiEtqsVgs/Orsfr985nu4psew5cowr/vkVf1toVAn/Ztpgpg3PNnmV8tBlQ+mVGsf+0uP8+p2NIdN9QgGgmKKwzD0Grn0VwI2d0S+NrglRlFTV8tXOw95amoiIX43q1YUP7zmTyUMysNefaZ557ql8f0Jfk1cmAAnREfz9+pHYrBbeW3eAeSHSGkYBoJiiuKL9TaBPFGGzesYgvb9Os4FFJHglx0XyzE2j+fv1I/njFcP46YUDzF6SNJLbqwv3nm+0hnnw3U0UHAn+1jAKAMUU7hRwZicCQGhoCv3JpkKq6xydXpeIiFksFguXjezOjeN6acpHALr73FM5rU8qlTV27pm7NuiPHikAFFO4A8DOpIABRvfqQnZyDBU1dj7fVuyNpYmIiHyHzWrhsetHkhgTQf7eUn7wwirP77JgpABQTFHcgTnAzbFaLZ5dwPfWaTawiIj4TveUWB67diTREVa+2HGYyY8v5aMNwXkESQGg+J3L5erwFJDmuAPARVuKqaxpfbSSiIhIR00anMEH90xkaPckSo/Vcdcra/jp6+s8fRyDhQJA8bvKGjvHao3zeu2dA9ycIdlJnNI1nhq7k4WbCzv9fCIiIidzanoib981gRnn9sNqgbfW7GPK378IqmbRCgDF74rq07+JMRHERbV/CsiJLJZGaeB8pYFFRMT3oiKs/GxyDq/9aDw9usSy7+hxrvvXMh5ZsJVae+AXiCgAFL8r9mL61+3SkUYA+MWOwxytqvXa84qIiJzM2D6pfPSTM7l6dA+cLvjn57u48umv2Hc0sFvFKAAUv2sYA9f59K9bv24JDMlOwu508dFGpYFFRMR/EmMi+es1I3h6+ihS4iLZuL+cX83baPayTkoBoPhdYVl9BXAnxsA1p6EaODS6tIuISHCZMiyLt+86A6sFlm4/xKYDZWYvqUUKAMXvGnoA+iYAXLG7xDNqTkRExJ9O6ZbAxfUznP+15BuTV9MyBYDid8UV7ikg3ksBg9GfaUzvLrhcMH+9ikFERMQcd559CmD8LgrUsXEKAMXvirzUBLo57mKQ99cHZ2NOEREJfkOykzlrQDecLvj3F4G5C6gAUPzOVylggClDs7BaYN3eUvYcqfL684uIiLSFexfw9dV7OVxZY/JqvksBoPiVy+VqNAbOuylggG6J0Uw4tSsA72s0nIiImGT8KWmM6JlCjd3JC199a/ZyvkMBoPjV0WN11DqMBpnpXq4CdtNsYBERMZvFYuGu+l3Al5Z9G3CjShUAil+5079p8VFERfjmn9/kIZlE2axsL6pkW2GFT15DRESkNRcMzuSUrvGUV9uZu7LA7OU0oQBQ/MqX5//ckmMjOXtgN0A9AUVExDw2q4Uf1e8CPvfF7oAaEacAUPzKl+f/Gru0Pg38/rqDuFwun76WiIhISy7P7U5GUjSF5dW8kx84mxIKAMWvCt1zgH10/s9t0qAM4qJsFJQcI39vqU9fS0REpCXRETZ+MKEvAP9asgunMzA2JRQAil+5U8C+3gGMjbJxweAMwNgFFBERMcuN43qRGBPBrkNVLNxSZPZyAAWA4meeJtDJvt0BBLikfhTP/PUHcATIJy4JDkuXLuWSSy4hOzsbi8XCO++80+R+l8vFgw8+SFZWFrGxsUyaNIkdO3Y0eUxJSQnTp08nKSmJlJQUbrvtNiorK/34txCRQJEYE8n3Tu8NwDNLdgXE0SQFgOJX7jFwvk4BA5w1oBvJsZEUV9SwYvcRn7+ehI6qqipGjBjBU0891ez9jzzyCE888QTPPPMMK1asID4+nsmTJ1Nd3TCDevr06WzatImFCxcyf/58li5dyh133OGvv4KIBJhbJ/QlKsLK2oJSVu4uMXs5nQ8AZ8+ezdixY0lMTCQ9PZ3LL7+cbdu2NXlMdXU1M2bMIC0tjYSEBK666iqKippugRYUFHDxxRcTFxdHeno6P/vZz7DbA6tnjnReQwrY9wFgVISVKUMzATWFlvaZMmUKDz/8MFdcccV37nO5XDz++OM88MADXHbZZQwfPpyXXnqJAwcOeHYKt2zZwoIFC3juuecYN24cEydO5Mknn2Tu3LkcOKB/iyLhqFtiNNeM7gHA00t2mbwaLwSAS5YsYcaMGSxfvpyFCxdSV1fHhRdeSFVVwxiu++67j/fff5833niDJUuWcODAAa688krP/Q6Hg4svvpja2lq+/vprXnzxRV544QUefPDBzi5PAojd4eRQhX+qgN3c1cAfbSwMqPJ7CV67d++msLCQSZMmeW5LTk5m3LhxLFu2DIBly5aRkpLCmDFjPI+ZNGkSVquVFStW+H3NIhIY7jjrFKwW+HzbIbYcLDd1LZ0OABcsWMD3v/99hgwZwogRI3jhhRcoKCggLy8PgLKyMv7zn//w6KOPct555zF69Gief/55vv76a5YvXw7AJ598wubNm3n55ZcZOXIkU6ZM4fe//z1PPfUUtbW1nV2iBIgjVbU4XUZfpLQE/wSA405Jo1tiNKXH6vhy5yG/vKaEtsLCQgAyMjKa3J6RkeG5r7CwkPT09Cb3R0REkJqa6nlMc2pqaigvL2/yJSKho3daPFOHZQHGWUAzef0MYFlZGQCpqakA5OXlUVdX1+TTck5ODr169WryaXnYsGFN3lAnT55MeXk5mzZt8vYSxSTu9G+3hGhsVotfXtNmtXBx/f9s7+Ur9SaBbfbs2SQnJ3u+evbsafaSRMTL7jy7HzarBavFYmpLGK8GgE6nk3vvvZcJEyYwdOhQwPgkHBUVRUpKSpPHnvhpublP0+77mqNPysGnyE9NoE906UgjDfzJ5iKO1zr8+toSejIzjXOlJ55jLioq8tyXmZlJcXFxk/vtdjslJSWexzTn/vvvp6yszPO1d+9eL69eRMw2tHsyy355Ho9dNxKrnzZDmuPVAHDGjBls3LiRuXPnevNpm6VPysHHH2PgmpPbM4WeqbEcq3WweGtx698gchJ9+/YlMzOTRYsWeW4rLy9nxYoVjB8/HoDx48dTWlrqOQoDsHjxYpxOJ+PGjWvxuaOjo0lKSmryJSKhx9+/B5vjtQBw5syZzJ8/n88++4wePXp4bs/MzKS2tpbS0tImjz/x03Jzn6bd9zVHn5SDj7+aQJ/IYrF4egJqNrC0RWVlJfn5+eTn5wNG4Ud+fj4FBQVYLBbuvfdeHn74Yd577z02bNjAzTffTHZ2NpdffjkAgwYN4qKLLuL2229n5cqVfPXVV8ycOZPrr7+e7Oxs8/5iIiL1Oh0AulwuZs6cybx581i8eDF9+/Ztcv/o0aOJjIxs8ml527ZtFBQUNPm0vGHDhiYpk4ULF5KUlMTgwYObfV19Ug4+RX4aA9ecS+qrgT/bdojy6jq/v74El9WrV5Obm0tubi4As2bNIjc319OZ4Oc//zk//vGPueOOOxg7diyVlZUsWLCAmJiGf9uvvPIKOTk5nH/++UydOpWJEyfy7LPPmvL3ERE5UURnn2DGjBnMmTOHd999l8TERM+ZveTkZGJjY0lOTua2225j1qxZpKamkpSUxI9//GPGjx/P6aefDsCFF17I4MGD+d73vscjjzxCYWEhDzzwADNmzCA62r+7ReI7/pwCcqKczET6pyewo7iSjzcWcs0YHRmQlp1zzjkn7dRvsVh46KGHeOihh1p8TGpqKnPmzPHF8kREOq3TO4BPP/00ZWVlnHPOOWRlZXm+XnvtNc9jHnvsMaZNm8ZVV13FWWedRWZmJm+//bbnfpvNxvz587HZbIwfP56bbrqJm2+++aRvrhJ8/NkE+kQWi8XTE/D99ZoNLCIi4a3TO4BtmWcXExPDU0891eJYJYDevXvz4YcfdnY5EsCK/dwE+kSXjMjmbwu389XOwxyprPFbL0IREZFAo1nA4hc1dgclVUZTbzPOAAL06RrP8B7JOJwuPtygXUAREQlfCgDFL4rrz/9FRVhJiYs0bR3uNPB7mg0sIiJhTAGg+EVxRUMLGIvFvMaX04ZnY7HAqm+PcqD0uGnrEBERMZMCQPELTwWwSelft8zkGE7rY4wpnL9eu4AiIhKeFACKX5hZAXyiS5QGFhGRMKcAUPyi0DMGzvzK26nDsoiwWti4v5xvDlWavRwRERG/UwAofuEuAgmEHcDU+Cgm9u8KwPvrVA0sIiLhRwGg+IU7BZwZAAEgNK4G3t+mXpYiIiKhRAGg+EVRAKWAAS4YnEF0hJVdh6rYfLDc7OWIBIcvH4PN75q9ChHxAgWA4heBlAIGSIyJ5LycdEDFICJtUrIbPv0tzJ9l9kpExAsUAIrPVdXYqaixA4ETAEJDGnj+uoM4nUoDi5xUTYVxWV0KOjYhEvQUAIrPudO/CdERJER3evy015ybk05CdAT7S4+zdu9Rs5cjEtjsxi4+Tjs4as1di4h0mgJA8Tl3E+hAOf/nFhNp48LBGQC8l680sMhJ2asbrtdWmbcOEfEKBYDic54xcCZPAWnOJSONNPAHGw5idzhNXo1IAHPUNFyvVf9MkWCnAFB8rmEKSGDtAAJMPLUrXeIiOVxZy7Jvjpi9HJHAZW8cAGoHUCTYKQAUnyssC6wK4MYibVamDssC4H1VA4u0TClgkZCiAFB8rqgicOYAN8c9G/ijjYXU2B0mr0YkQNkbFX4oBSwS9BQAis8Vlwd2AHhan1Qyk2KoqLazZNshs5cjEpi0AygSUhQAis8VeZpAB94ZQACr1cK04UYaWE2hRVqgM4AiIUUBoPiUy+VqVAQSmDuAAJfWVwMv2lLMsVq7yasRCUAOBYAioUQBoPhU2fE6auxGe5VuiYG5AwgwrHsyvdPiOF7nYOHmIrOXIxJ4tAMoElIUAIpPudO/XeIiiYm0mbyallksFs9oOFUDizRDZwBFQooCQPGpYEj/urkDwCXbD1F6TKOuRJqwqxG0SChRACg+5Q4A04MgAOyfkcigrCTqHC7tAoqcSClgkZCiAFB8qriivgI4gM//NXbN6B4AvLZ6r8krEQkwSgGLhBQFgOJThWXBkwIGuCK3O1E2Kxv3l7Nxf5nZyxEJHA41ghYJJQoAxac8ZwCTgyMA7BIfxQVDMgB4XbuAIg20AygSUhQAik8VBVkKGOD6sT0BeGftfqrrNBpOBNAZQJEQowBQfCrQx8A1Z0K/rnRPiaW82s7HmwrNXo5IYNAOoEhIUQAoPuNwuhqKQIIoALRaLVwzpr4YZJXSwCIA2HUGUCSUKAAUnzlSVYPD6cJqga4JUWYvp12uGdMTiwW+3nWEPUe02yGiHUCR0KIAUHymuH4KSNeEaCJswfVPrXtKLGf27wbAG6v3mbwakQDQ+Axg3THz1iEiXhFcv5UlqATTFJDmXDfGKAZ5M28fdofT5NWImMxxQgDoVIGUSDBTACg+454DnJEUPBXAjU0anE6XuEgKy6tZuuOQ2csRMVfjHUDQLqBIkFMAKD5TGERj4JoTHWHjylEqBhEBmp4BBJ0DFAlyCgDFZzwtYBKDMwAEuK6+J+CiLcUcqqhp5dEiIaxxFTAoABQJcgoAxWfcZwAzk4MzBQwwICORkT1TsDtdzFurYhAJY9/ZAVQrGJFgpgBQfMZ9BjBYU8Bu7l3Auav24nK5TF6NiAlcroYikJhk41I7gCJBTQGg+ExxRfCngAEuGZFNXJSNbw5VkbfnqNnLEfE/R6P0b1yacakAUCSoKQAUn6i1OzlcafzSCNYqYLeE6AguHpYFqBhEwlTj9G9sqnGpFLBIUFMAKD5xqNJIF0XaLHSJC64pIM1xp4Hnrz9IRXWdyasR8bPGLWBiU4xL7QCKBDUFgOIT7gKQ9MQYrFaLyavpvNG9u9CvWzzH6xzMX3/Q7OWI+Jc7AIyIgagE47oCQJGgpgBQfMLTAibI079uFovFswuoNLCEHXcAaItWACgSIhQAik80TAEJ7gKQxq4c1YMIq4X8vaVsK6wwezki/uM+AxgRDVHxxnUFgCJBTQGg+ERhkM8Bbk7XhGjOH5QOaBdQwoyjcQpYAaBIKFAAKD7hOQMYIilgt+vH9gJg3tp91NgdJq9GxE88ZwCjGgWAqgIWCWYKAMUniutTwJkhtAMIcNaAbmQmxXD0WB2fbi42ezki/uFJAasIRCRUKAAUnygKwRQwgM1q4erRPQB4bbXSwOHK4XDw61//mr59+xIbG0u/fv34/e9/32RSjMvl4sEHHyQrK4vY2FgmTZrEjh07TFx1J7jnAOsMoEjIUAAoPlEUYlXAjV07xqgG/mLHIfYdPWbyasQMf/7zn3n66af5xz/+wZYtW/jzn//MI488wpNPPul5zCOPPMITTzzBM888w4oVK4iPj2fy5MlUV1ef5JkDlHsH0KYAUCRUKAAUrzte66C82g4E/xzg5vRKi+OMfmm4XPBm3j6zlyMm+Prrr7nsssu4+OKL6dOnD1dffTUXXnghK1euBIzdv8cff5wHHniAyy67jOHDh/PSSy9x4MAB3nnnHXMX3xGeM4CN28DoDKBIMFMAKF7n3v2LjbSRGB1h8mp8w90T8I3V+3A4Xa08WkLNGWecwaJFi9i+fTsA69at48svv2TKlCkA7N69m8LCQiZNmuT5nuTkZMaNG8eyZctafN6amhrKy8ubfAUEVQGLhJzQ/O0spnIHgJnJMVgswT8FpDmTh2SSFBPB/tLjfLXzMGcN6Gb2ksSPfvnLX1JeXk5OTg42mw2Hw8Ef/vAHpk+fDkBhYSEAGRkZTb4vIyPDc19zZs+eze9+9zvfLbyjmlQBxxnXFQCKBDXtAIrXFVUYvyzSE0Pv/J9bTKSNK3K7AyoGCUevv/46r7zyCnPmzGHNmjW8+OKL/PWvf+XFF1/s1PPef//9lJWVeb727g2Qf1uqAhYJOdoBFK8rDtEK4BNdO7YnLy7bw8JNRRytqqVLfJTZSxI/+dnPfsYvf/lLrr/+egCGDRvGnj17mD17NrfccguZmZkAFBUVkZWV5fm+oqIiRo4c2eLzRkdHEx0dgB+cmpwBrE8B11WBywUhussvEuq0AyheV1gWuhXAjQ3JTmZo9yRqHU7mrd1v9nLEj44dO4bV2vTt02az4XQ6Aejbty+ZmZksWrTIc395eTkrVqxg/Pjxfl2rVzSZBVwfADrt4Kg1b00i0ikKAMXr3CngUN8BBLiuviXMa6v2NukBJ6Htkksu4Q9/+AMffPAB3377LfPmzePRRx/liiuuAMBisXDvvffy8MMP895777FhwwZuvvlmsrOzufzyy81dfEc0ngUcGd9wu9LAIkFLKWDxulBtAt2cS0d25+EPtrCtqIJ1+8oY2TPF7CWJHzz55JP8+te/5u6776a4uJjs7Gx+9KMf8eCDD3oe8/Of/5yqqiruuOMOSktLmThxIgsWLCAmJgj/v3Dv9EXEgC3CuLRXG61g4lLNXZuIdIgCQPG6cDkDCJAcG8nUYVnMW7uf11btVQAYJhITE3n88cd5/PHHW3yMxWLhoYce4qGHHvLfwnyl8Q4gGGlge7V2AEWCmFLA4lUul4uicncKOLTPALq5J4O8v+4Ax2rtJq9GxAcaF4GAegGKhAAFgOJV5dV2jtc5AEhPDP0dQIDTT0mld1oclTV2Plh/0OzliHifvVEjaNA0EJEQoABQvMqd/k2KiSA2ymbyavzDYrF4dgFfV09ACUWeKuD6VkfaARQJegoAxavc6d/M5PDY/XO7enQPrBZY9e1Rdh3SroiEmMaNoEEBoEgIUAAoXhVOFcCNZSTFcO7AdABeX6VdQAkxnipg9xlApYBFgp0CQPGqogojAAyX83+NXTfWSAO/tWYfdQ6nyasR8aITq4AjNQ9YJNgpABSvKgqTKSDNOTcnna4J0RyurGXx1mKzlyPiPc21gQEFgCJBTAGgeFW4ngEEiLRZuWp0d0BpYAkx9kaNoEEBoEgI8EoAuHTpUi655BKys7OxWCy88847Te7//ve/j8ViafJ10UUXNXlMSUkJ06dPJykpiZSUFG677TYqK3W+JNiEcwoYGnoCfrat2DMTWSTouXcAbSeeAVQAKBKsvBIAVlVVMWLECJ566qkWH3PRRRdx8OBBz9err77a5P7p06ezadMmFi5cyPz581m6dCl33HGHN5YnflQcZk2gT9SvWwKn9UnF6TLOAoqEBDWCFgk5XhkFN2XKFKZMmXLSx0RHR5OZmdnsfVu2bGHBggWsWrWKMWPGAMaszalTp/LXv/6V7OxsbyxTfMzpdFFcEZ5VwI1dO7YnK78t4fXVe7nr7H5YrRazlyTSOY4TG0G7A0BlaUSCld/OAH7++eekp6czcOBA7rrrLo4cOeK5b9myZaSkpHiCP4BJkyZhtVpZsWKFv5YonVRyrJY6hwuLBbolhucOIMDUYZkkREew58gxlu8+0vo3iAQ6zw6guxG0UsAiwc4vAeBFF13ESy+9xKJFi/jzn//MkiVLmDJlCg6HMTKssLCQ9PT0Jt8TERFBamoqhYWFzT5nTU0N5eXlTb7EXO4egGnx0UTawre+KC4qgktGGLvWKgaRkKBG0CIhxy+/pa+//nouvfRShg0bxuWXX878+fNZtWoVn3/+eYefc/bs2SQnJ3u+evbs6b0FS4eE+/m/xq6v7wn40cZCyo7XmbwakU5w2MFV39dSZwBFQoYp2zSnnHIKXbt2ZefOnQBkZmZSXNy0b5rdbqekpKTFc4P3338/ZWVlnq+9e7XTYrZwnQLSnOE9ksnJTKTG7uS9/P1mL0ek4+yNqtm/UwWsM4AiwcqUAHDfvn0cOXKErKwsAMaPH09paSl5eXmexyxevBin08m4ceOafY7o6GiSkpKafIm5irQD6GGxWDwtYeYqDSzBzH3+D7QDKBJCvBIAVlZWkp+fT35+PgC7d+8mPz+fgoICKisr+dnPfsby5cv59ttvWbRoEZdddhmnnnoqkydPBmDQoEFcdNFF3H777axcuZKvvvqKmTNncv3116sCOIgUlod3D8ATXZHbnSiblU0Hytm4v8zs5Yh0jHsH0BoJVptxXQGgSNDzSgC4evVqcnNzyc3NBWDWrFnk5uby4IMPYrPZWL9+PZdeeikDBgzgtttuY/To0XzxxRdERzfsFL3yyivk5ORw/vnnM3XqVCZOnMizzz7rjeWJnxTXB4DhOAWkOV3io7hwSAYAr6/WLqAEKccJPQChIQC0Hwenw/9rEpFO80ofwHPOOQeXy9Xi/R9//HGrz5GamsqcOXO8sRwxSVFF+M4Bbsl1Y3syf/1B5q3dz6+mDiIm0mb2kkTa58Qm0NAQAALUHYPoRP+uSUQ6LXx7dYjXuc8AKgXcYEK/rnRPiaWi2s6Cjc23NBIJaCe2gHFft9T/+lAaWCQoKQAUr7A7nByudBeBKAB0s1obikFeUzGIBCN7rXHZeAfQYlEzaJEgpwBQvOJQZQ0uF0RYLaTFR5m9nIBy9ZgeWCyw7Jsj7DmiX5YSZNw7gLYTjnZoHJxIUFMAKF7RkP6N1uzbE3RPieXM/t0AFYNIEGruDCCoElgkyCkAFK9wN4FOV/q3WdfVp4HfzNuH3eE0eTUi7eCpAj7h/20FgCJBTQGgeEVxuSqAT2bS4HRS46MoKq9h6Y5DZi9HpO08O4AnHO3QNBCRoKYAULyiYQqIdgCbEx1h44rc7oCKQSTINFcFDNoBFAlyCgDFKwo1B7hV14010sCLthRzqKKmlUeLBAidARQJSQoAxSuKFAC2akBGIrm9UrA7Xby9Zp/ZyxFpG3cAqCpgkZCiAFC8otiTAtYZwJNxF4O8tnrvSafniASMFlPA6gMoEswUAIpXNIyB0w7gyUwbkU1clI1vDlWxes9Rs5cj0jpHM42gASLjjMvaY/5dj4h4hQJA6bTqOgelx+oAyNAYuJNKiI7g4mFZgIpBJEh4dgCVAhYJJQoApdPc6d/oCCtJsREmrybwXX+akQb+YP1BKqrrTF6NSCtaLAJRClgkmCkAlE5zp38zk2OwWDQFpDWjenWhX7d4jtc5mL/+oNnLETk5uxpBi4QiBYDSaZ4KYKV/28RisXhawsxVGlgCnacK+MRG0AoARYKZAkDpNM8cYFUAt9mVo3oQYbWwbm8p2worzF6OSMtarQLWGUCRYKQAUDqtWD0A261rQjSTBmUAKgaRAOdQI2iRUKQAUDqtUHOAO8SdBn577T5q7A6TVyPSAk0CEQlJCgCl0zQFpGPOGtCNzKQYSo/VsXBzkdnLEWmeGkGLhCQFgNJpDVNAFAC2h81q4ZoxPQClgSWA2VtoBN24D6Cm2ogEHQWA0mnaAey4a0YbaeAvdx5m31FNVJAA5N4BbGkWsMvRkCYWkaChAFA6pbLGTlWtcX4tPVFnANurV1ocZ/RLw+WCN1bvM3s5It/V2hlAUBpYJAgpAJROKSwzdgcSoyOIj9YUkI5wF4O8mbcPh1OpNAkwjhYaQVttDbfVKQAUCTYKAKVTPC1gkpX+7ajJQzJJjo1kf+lxvtp52OzliDTl2QGM+u59qgQWCVoKAKVT3GPg1AKm42IibVw+MhuA11arGEQCTEtVwKAAUCSIKQCUTnFPAdEYuM65tj4N/MmmQkqqak1ejUgjLVUBg6aBiAQxBYDSKe4K4HRVAHfKkOxkhnZPos7hYt7a/WYvR6RBS1XAoB1AkSCmANAkDqeLpdsP8ezSXVTV2M1eTocVaQqI11w3thcAr6/ai0t91SQQOJ3grDOuKwUsElJUtulnO4sreDNvP++s3e8ZoXa81slPJvU3eWUd404BZ2oHsNMuHZHNw/M3s62ogvy9peT26mL2kiTcORr191MKWCSkKAD0g9Jjtby/7gBvrtnPur2lntttVgsOp4uV3x4BgjUAVArYW5JjI5k6LIt5a/fz+uq9CgDFfO70L7QQALZzB3D183BkJ1z4MFgsnV+fiHSYUsA+Uudw8unmIu56OY/T/rCIX7+7iXV7S7FZLUwalM7T00fx9l1nAJBfUBqU/d9cLlejMXBKAXuDuyfg++sOcqw2eI8GhIP9+/dz0003kZaWRmxsLMOGDWP16tWe+10uFw8++CBZWVnExsYyadIkduzYYeKKO8DdAsZiBWsz+wXtCQBdLvj4V7DsH1DyjffWKCIdoh1AL9t8oJy31uzj3fz9HK5sqOYclJXEVaO6c9nI7nSrn5jhcLpIiI6gssbOtsIKBmcnmbXsDjl6rI5ahxPA83eSzhnXN5U+aXF8e+QYH6w/yDVjepq9JGnG0aNHmTBhAueeey4fffQR3bp1Y8eOHXTp0rBr+8gjj/DEE0/w4osv0rdvX379618zefJkNm/eTExMkOyY2xs1gW5ux67xPODWHD8Kdcfa/ngR8SkFgF5wuLKGd9bu5601+9lysNxze1p8FJfndueqUT2aDe5sVgsje6bw5c7D5BUcDboA0J3+TY2PIjrCZvJqQoPFYuGaMT35y8fbeGP1PgWAAerPf/4zPXv25Pnnn/fc1rdvX891l8vF448/zgMPPMBll10GwEsvvURGRgbvvPMO119/vd/X3CHuANDWTBNoaHQGsA07gOUHGq7XHe/cukSk05QC7qAau4OPNhzkhy+uYtwfF/HwB1vYcrCcKJuVKUMzee7mMSz/1fn8etrgkwZ2o3obOwZr9hz119K9pqECOEh2M4LEFbndAVi1p4TDlTWtPFrM8N577zFmzBiuueYa0tPTyc3N5d///rfn/t27d1NYWMikSZM8tyUnJzNu3DiWLVvW4vPW1NRQXl7e5MtUJ2sCDY12AI+1/lxNAsA2PF5EfEo7gO3gcrlYt6+Mt/L28f76A5Qeq/PcN6JnCleP6s4lI7JJiWvh03IzRrsDwILgCwB1/s83slNiGdo9iY37y1m8pdjTJFoCxzfffMPTTz/NrFmz+NWvfsWqVau45557iIqK4pZbbqGwsBCAjIyMJt+XkZHhua85s2fP5ne/+51P194ujpM0gQaIjDMu25LSrdAOoEggUQDYBoVl1cxbu5+31uxjZ3HDG11GUjRX5Pbg6tHdOTU9sUPPPbJnCgB7jhzjUEVNUJ2l8+wAagqI110wKJON+8v5ZHORAsAA5HQ6GTNmDH/84x8ByM3NZePGjTzzzDPccsstHX7e+++/n1mzZnn+XF5eTs+eJv739+wAtvC+1K4U8MGG6woARUynALAFx2sdfLK5kDfz9vHVzsO4i3SjI6xcNDSTq0b1YMKpXbFZO9fKIDk2kgEZCWwvqmRNwVEmD8n0wur9o1BNoH3mgsEZPPbpdr7ceYjjtQ5io3TGMpBkZWUxePDgJrcNGjSIt956C4DMTOP/46KiIrKysjyPKSoqYuTIkS0+b3R0NNHRAfT/U6sBYDuqgCuUAhYJJAoAG3G5XKzec5Q3V+/jww0HqWg0oWNsny5cNaoHU4dnkRQT6dXXHd27S1AGgO4m0OoB6H2DshLpnhLL/tLjfLHjEBcG0b+LcDBhwgS2bdvW5Lbt27fTu3dvwCgIyczMZNGiRZ6Ar7y8nBUrVnDXXXf5e7kd55kD3NoZQO0AigQbBYDA3pJjvL1mP2+v3ceeIw2fTHt0ieXKUT24alR3eqfF++z1c3t14dWVe4OuEKS4wtgd0BQQ77NYLFwwOIMXvv6WhZuLFAAGmPvuu48zzjiDP/7xj1x77bWsXLmSZ599lmeffRYw/vvde++9PPzww/Tv39/TBiY7O5vLL7/c3MW3x8nmAEP7JoGoCEQkoIRtAFhZY+ejDQd5M28fK3aXeG6Pj7IxZVgWV4/uwWl9UrF2MsXbFu5CkHX7yqi1O4mKCI7ibFUB+9aF9QHg4q3FOJyuTh83EO8ZO3Ys8+bN4/777+ehhx6ib9++PP7440yfPt3zmJ///OdUVVVxxx13UFpaysSJE1mwYEHw9ACERn0AvZ0C1g6giNnCMgD8fFsxd728huN1DsDob3pGvzSuGtWDi4ZmEhfl3x/LKV3jSYmLpPRYHZsOlAXFCDCH08WhClUB+9LYvqkkxURwpKqWtQVHGdMn1ewlSSPTpk1j2rRpLd5vsVh46KGHeOihh/y4Ki9zNGoE3Zy2BoB1x41G0J4/awdQxGxhGQAOyU6m1uGkb9d4rhrVnStG9aB7Sqxp67FYLIzq1YXFW4tZU1AaFAHg4coanC6jmXVaggJAX4i0WTk3J5138w+wcHORAkDxP88OYCuNoO3HwekAawvFShUHm/5ZO4AipguOXKOXdUuM5uN7z2LxT89m5nn9TQ3+3EYHWUNod/q3W0K0UpM+dMFgo4/cws1FJq9EwlJbG0HDyXcByxUAigSasAwAAU5NT8DS3GxLk4yq3/XLC5oAUOlffzh7QDcibRa+OVzVpAeliF+0dgYwIhos9bt+Jw0ADzT9s1LAIqYL2wAw0IzomYzNaqGwvJoDpYH/6di9A6gWML6VGBPJ+H5dAe0Cigk8s4BbCAAtloY08MmCuooTAsC2jI4TEZ9SABgg4qIiGJRlTBMJhl3AYjWB9puGNHDLI8REfKK1RtAAUW0YB+dOASfXTzXRDqCI6RQABpDRQZQGLtQYOL+5YJARAK7dW+qpvBbxC3srVcDQtkpg9w5g6inGpc4AiphOAWAAGVVfCLK2IPADQM8ZwGQFgL6WmRzD8B7JuFywaIvSwOJHjlaqgKFtAaB7BzCtn3GpAFDEdAoAA4i7EGTTgXKO1zpMXs3JqQm0f7l3AXUOUPyqTTuAbZgG4m4Dk+oOAJUCFjGbAsAA0qNLLOmJ0didLtbvKzV7OSdVrCbQfnXBECMA/HLnYY7V2lt5tIiXtNYGBlrfAXQ6GwJA7QCKBAwFgAHEYrE09AMsKDV3MSdRY3dQUmUMidcZQP8YmJFIz9RYauxOlm4/bPZyJFzYjf/PsXUiBVx1CJx2sFihSx/jNgWAIqZTABhggqEfYHH9+b+oCCspcZEmryY8WCwWLhiUCcCnOgco/tKuHcAWUsDuApD4dIhOMq4rBSxiOgWAAWaUZwfwKC6Xy+TVNK+4oqEFTCA10w517nYwi7cW43AG5r8NCTGtNYKGRmcAW9gBdBeAJGVBZP3UJWcdOOq8s0YR6RAFgAFmaPckomxWSqpq+fZIYH5K9lQAK/3rV2P7dCE5NpKSqtqA3iGWEOLwQhsY9w5gYjZExjXcrjSwiKkUAAaY6Agbw3okA4E7F1gVwOaIsFk5LycdUFNo8RN7e9rAtJACdo+BS8qq30mszxooABQxlQLAADSqVwoAeQHaD9C9A5iuCmC/a5gKUhSwRwQkhLTpDGBbU8DZxug49y6gzgGKmEoBYADyVAJrB1BOcNaAbkTZrHx75Bg7i0/Sd03EG9xVwCc9A+jeAWwhoGucAoaGc4DaARQxlQLAAOSuBN5WVEFFdeAdlHYHgJkKAP0uITqCM05NA+ATNYUWX3PvANpOEgC6d/TaUgTS+PEKAEVMpQAwAKUnxdCjSywuF+TvLTV7Od/hDgCVAjZH4zSwiE95YxKIuwn0d3YAlQIWMZMCwADlTgMHYrWnuw+gUsDmmFQ/Fi5/bynF9cG4iE842tIG5iRVwDUVUFNuXPfsACoFLBIIFAAGqECdCFJVY6eixhhFpgDQHBlJMYzomQLAp1uKzV2MhC6Xq1ERSAcDQHf6NyoRohON6yoCEQkICgADlPsc4No9R3EGUNNfd/o3PspGQnSEyasJXxd60sBqByM+4qhtuN7RRtDuApCk7IbbtAMoEhAUAAaonMxEYiNtVNTY2RFA1Z6eJtDJ2v0zk/sc4Fe7jlBVvyMr4lXu83/Q9lFwJ7YmOrEABHQGUCRAKAAMUBE2KyPr03xrAqgfoGcMnKaAmKp/egK90+KotTv5Yschs5cjoahxAGhrQyNol6Pp98B3W8A0frx2AEVMpQAwgAViIUhDD0BVAJvJYrFwQX0xiNrBiE80bgFzspnf7oAOvpsGbjwFxE0pYJGAoAAwgI3qnQIEVkPoIlUABwx3Gnjx1mLsDqfJq5GQ4z4DeLL0L4DVBhH1Qd2JrWDcKeDExgGguwikhb6BIuIXXgkAly5dyiWXXEJ2djYWi4V33nmnyf0ul4sHH3yQrKwsYmNjmTRpEjt27GjymJKSEqZPn05SUhIpKSncdtttVFYGztk3M+T2NHYAvzlcRUlVbSuP9o9CTw9ABYBmG927C13iIik9VsfqAPqQICHCUwF8kvSvW0uVwJ4ikO4Nt2kHUCQgeCUArKqqYsSIETz11FPN3v/II4/wxBNP8Mwzz7BixQri4+OZPHky1dUNPcymT5/Opk2bWLhwIfPnz2fp0qXccccd3lhe0OoSH0W/bsYb69oAOQdYrCkgASPCZuXcnHRATaHFB9oyB9jNc67vhMIOFYGIBCyvBIBTpkzh4Ycf5oorrvjOfS6Xi8cff5wHHniAyy67jOHDh/PSSy9x4MABz07hli1bWLBgAc899xzjxo1j4sSJPPnkk8ydO5cDBw54Y4lBy90OJlDOATakgHUGMBBc2GgqiOvECkyRzmjLHGC35qaBOOxQVd+nsnERiEbBiQQEn58B3L17N4WFhUyaNMlzW3JyMuPGjWPZsmUALFu2jJSUFMaMGeN5zKRJk7BaraxYscLXSwxogVQI4nK5GhWBaAcwEJzZvxtREVYKSo6xvSi8j0yIl7VlDrBbVDPzgCuLwOUEawTEd2u4XSlgkYDg8wCwsNBoVJuRkdHk9oyMDM99hYWFpKenN7k/IiKC1NRUz2NOVFNTQ3l5eZOvUOQOANfvK6PO5IP+5cft1NiNNXRL1A5gIIiPjmDiqV0BNYUWL7O3YQycW3NnAN0VwAmZYG30q0aTQEQCQtBWAc+ePZvk5GTPV8+ePc1ekk/065ZAUkwEx+scbD1YYepa3AUgKXGRxETaTF2LNLigURpYxGs8c4DbcgawmRRwc1NAQDuAIgHC5wFgZmYmAEVFTX85FRUVee7LzMykuLjpTFO73U5JSYnnMSe6//77KSsr83zt3bvXB6s3n9VqIddzDrDE1LUUqQAkIJ0/KB2LBdbtK/P8NxLpNM8OYAergJsrAAHtAIoECJ8HgH379iUzM5NFixZ5bisvL2fFihWMHz8egPHjx1NaWkpeXp7nMYsXL8bpdDJu3Lhmnzc6OpqkpKQmX6HKnQZeU1Bq6jqK1AImIKUnxnimxmgXULymI1XAjQPA5qaAgHYARQKEVwLAyspK8vPzyc/PB4zCj/z8fAoKCrBYLNx77708/PDDvPfee2zYsIGbb76Z7OxsLr/8cgAGDRrERRddxO23387KlSv56quvmDlzJtdffz3Z2dktv3CYCJRCkOKK+gpgnf8LOEoDi9d16AxgoxRwizuACgBFAoFXAsDVq1eTm5tLbm4uALNmzSI3N5cHH3wQgJ///Of8+Mc/5o477mDs2LFUVlayYMECYmIaPlm+8sor5OTkcP755zN16lQmTpzIs88+643lBb0RPVOwWmB/6XFTU3yqAA5c7nYwy3YdobLGbvJqJCS4A8A2VQG7zwA2UwTynR1ApYBFAkGEN57knHPOOWkPMovFwkMPPcRDDz3U4mNSU1OZM2eON5YTchKiIxiYmcSWg+Ws2XOUKcOyWv8mHygs0xzgQNWvWwJ9u8az+3AVS7cfYqpJ/0YkhHhSwB2sAlYRiEhAC9oq4HAzun4usJlp4KIKzQEOVBaLRWlg8a62zgKG7waALlfbikDUvFzENAoAg4RnIoiJI+GKfZ0CrjuuXwid4A4AF28tNr1npISAdu0AnpACri4Fe/0OX2ILZwAbv4aI+J0CwCDhLgTZuL+M6jqH31/f6XQ1FIH4IgDc/QX8IQu++Kv3nztMjOrVhdT4KMqO17HqW3NbBkkI6EwjaPfuX2yXpgEfQESjPysNLGIaBYBBoldqHF0ToqhzuNh0oMzvr3+kqhaH04XFAl0T2tAXrL02vAG4YNlTDb94pF1sVgvn5RgTdZQGlk6zt6cR9IkBYAsFIAC2CLDVv4eoEETENAoAg4TFYmlIA5twDtBdAdw1IZoImw/+2ez52rg8fhS2f+z95w8Tjc8BnqwwS6RVnirgNnzgizyhDUxLBSCex6sQRMRsCgCDyCgT+wH6dApI5SE4sqPhz+te9f5rhIkz+3clOsLKvqPH2Vpo7uhACXKdaQTdUgGIm1rBiJhOAWAQaTwRxN+7O0Xl7vN/PmgBU1C/+xfX1bjc/jFUFrf8eGlRXFQEZ/Y3fo5KA0uneKqAO3AGsKUpIG7aARQxnQLAIDKsezKRNguHKmrYd9S/b5w+HQPnTv8OuQK6jwaXo/5MoHSE2sGIV3SkCth+HJwO7QCKBAEFgEEkJtLG4OxkwP9p4OKK+hYwiT4MAHufASNvNK7nKw3cUeflZGCxwIb9ZRws0w6LdFBHqoDB2AXUDqBIwFMAGGRG93Kngf0bAPpsCkh1GRRuMK73PgOGXGkcOi/aAAfXe/e1wkS3xGhPwdCn2gWUjmpPFXBENFhsxvXaqoYq4BaLQOp3AGu1AyhiFgWAQWa0SYUgnjOAyV7eASxYAbgg9RRIzIS4VBg41bgvX6MBO8qTBt6is5TSQe4UcFtmAVssDWng4yVw7IhxvbUAUClgEdMoAAwyo+pHwm05WE5Vjd1vr+uzFHBBo/Sv28jpxuWG18Fe693XCxPuAHDZrsNUVNeZvBoJSu1JAUNDGvjITuPSFm00gm6OUsAiplMAGGSykmPJTo7B6YJ1e0v98pp1DieHK41AzOspYM/5vwkNt/U7DxIyjF2EnQu9+3phol+3BE7pFk+dw8WS7YfMXk7I+9Of/oTFYuHee+/13FZdXc2MGTNIS0sjISGBq666iqKiIErJt6cNDHw3AEzKMnYGm6MdQBHTKQAMQqN6+/cc4KH6EXCRNgtd4rw4BaTuOOxfY1zvNb7hdlsEDL/WuK40cIepGtg/Vq1axb/+9S+GDx/e5Pb77ruP999/nzfeeIMlS5Zw4MABrrzySpNW2QGeNjBt/H/eHQAerg8AWyoAAe0AigQABYBByN/nAAvdLWASY7BaW/hE3xH7VoOzzvhF0aVP0/tG1FcDb18AVYe995ph5ML6APCzrcXUOZwmryY0VVZWMn36dP7973/TpUtDurOsrIz//Oc/PProo5x33nmMHj2a559/nq+//prly5ebuOJ2aPcOYP0ZwMPbjcuWzv9BowBQO4AiZlEAGIRG9WpoCO10+r4hdHG5jyqAG7d/OTFVlDEYsnPBaYcNb3r3dcPEyJ5dSIuPorzazsrdJWYvJyTNmDGDiy++mEmTJjW5PS8vj7q6uia35+Tk0KtXL5YtW+bvZXZMh88A1k/1aakHIDRKAWsHUMQsCgCD0ODsJGIirZQdr+Obw1U+f72GKSBeLgDZ85Vx2Xt88/e7dwHzX/Hu64YJm9XC+YPSAaWBfWHu3LmsWbOG2bNnf+e+wsJCoqKiSElJaXJ7RkYGhYWFLT5nTU0N5eXlTb5M45kF3NYAsD6oqy4zLpUCFgloCgCDUKTNyvAeKQCs8UMauMizA+jFANBRB/tWGdcbF4A0NuxqsEZC4fqGXoHSLhcMzgSMANDf4wND2d69e/nJT37CK6+8QkyM9/6/mD17NsnJyZ6vnj17eu2528VhNybyQPt3AN3atAOoFLCIWRQABil3Gtgf5wDdO4Dp3kwBH1xnvPnHpkLXgc0/Ji4VBk4xrmsySIdMPLUrMZFW9pceZ/NBE3eTQkxeXh7FxcWMGjWKiIgIIiIiWLJkCU888QQRERFkZGRQW1tLaWlpk+8rKioiMzOzxee9//77KSsr83zt3bvXx3+TFrjP/0H7zwC6aQdQJKApAAxSo/1YCezeAcz05g6gJ/17BlhP8s/QPRpuw+vGrqG0S2yUjTP7dwOUBvam888/nw0bNpCfn+/5GjNmDNOnT/dcj4yMZNGiRZ7v2bZtGwUFBYwf38KRByA6OpqkpKQmX6ZwNOq/2eEdQBWBiASyCLMXIB0zqlcKADuKKyk7VkdyXKTPXssnKeA99Qfhe7X8yxCAUydBfDeoOgQ7P23YEZQ2u2BwBgs3F7FwcxH3Thpg9nLa7e+f7qBfejzThp8koPCzxMREhg4d2uS2+Ph40tLSPLffdtttzJo1i9TUVJKSkvjxj3/M+PHjOf30081Ycvu4dwCtEWC1te17mgSAFmOyT0tUBCJiOu0ABqm0hGj6pBlvomv2+nYXsMjbVcBOZ/MTQJpji4Th1xnXVQzSIefnpGO1wKYD5ewvDa5fuB9vKuSxT7czc85aNh8IrhT2Y489xrRp07jqqqs466yzyMzM5O233zZ7WW3T3hYw0DQFHN/N+H+3JUoBi5hOAWAQczeEXuvDc4DHax2UVxsj59K9tQNYvNmoFIxKgMzhrT9+xA3G5bYFcEztTNorLSHac2Rg0ZbgSQPvPlzF/3t9HQC3TezL4GyT0qFt9Pnnn/P44497/hwTE8NTTz1FSUkJVVVVvP322yc9/xdQ3CMYbe1o/N54B/BkBSCgIhCRAKAAMIh5GkL78BygewZwbKSNxGgvnRhw9//reZox9aM1mUONQNFZp56AHRRsU0GO1dq58395VNTYGdunC7+ckmP2ksJLh3YAGwWAJysAAe0AigQABYBBzB0A5heUYvfRpIfCsvoCkOQYLC3N9WyvtqZ/Gxs53bhUGrhD3O1gln9zhPLqwC6mcblc/OrtDWwrqqBbYjRP3TiKSJveqvyqvU2goWkK+GQFIKAzgCIBQO+qQax/eiIJ0RFU1TrYVlThk9coqp8DnJ7opfN/LlejCSAt9P9rzrBrjJ6AB/OhaLN31hJG+naN59T0BOocLj7fdsjs5ZzU/5bv4Z38A9isFp66cZT3jh5I2zk6EgC2JwWsKmARsykADGI2q4Xc+mrgNQWlPnmNYm9XAJd8A5VFxtmi7FFt/774NBgw2bi+bo531hJmgiENvKbgKL+fbwT490/J4bS+qSavKMR8+2XbztF2aAewAylgZ53aO4mYRAFgkPPMBfZRIYjXK4Ddu3/dx0BkO4NKd0/Ada8ZkwqkXdwB4Odbi6m1++bIQGccqazh7pfXUOdwMXVYJrdN7Gv2kkLLxrfghYvh4/9r/bGdrQJuaxEIKA0sYhIFgEHOXQnsq4kgXp8DvKcD5//c+l8IcV2hqhh2LWr98dLEyB4pdE2IpqLGzordR8xeThMOp4t75q6lsLyaU7rF88jVI7x35lQM6+Yal4e2tP7YjuwANg7qWtsBjIgG6v/7KgAUMYUCwCA3smcKFgsUlBzjUP15PW8q9HYK2DMBpJUG0M2xRcLwa43r+UoDt5fVamHSoHQg8NLAf/tkG1/tPEJclI1/3TSaBG9VnIvheCns+sy4XtWG4N8dANraEQBGJ2IEdZbWi0AsFrWCETGZAsAglxwbyYD0RMA3Y+G8egawbD+U7gGLFXqO69hzeHoCfqiegB3gTgN/urkIl8tl8moMn2wq5J+f7wLgz1cNp39GoskrCkHbPjTO2wEcO9z64z0p4PYEgAkw5RG4+K8Q04aejSoEETGVAsAQMKp3CuD9c4Aul6tRCtgLZwAL6se/ZY2o3y3ogKzhkDHMmFW68a3OrynMTDi1K7GRNg6UVbMpACZrfHu4ip/WN3u+dUIfLhkROOPeQsqmdxqu1x2D2laCLvcs4PacAQQYdweM/WHbHqtWMCKmUgAYAjyFIF7eAayosXO8zgFAeqIXdgDd6d9eHTj/15i7GERp4HaLibRx1oCuAHxichr4eK2DO182mj2P6d2FX00dZOp6QtbxUti1uOltre0CdmQHsL2ilAIWMZMCwBDgbgi9bl+ZV6s7i+qbQCfFRBAb1caB8Cezp34HsCMFII0Nu8YYUn9gDRRv7fy6woy7KbSZ5wBdLhf/N28DWwsr6JoQxVPT1ezZZ9zp326DGoozqloLADtQBNJemgYiYiq944aAvl3j6RIXSa3dyaYDZV57Xnf6NzPZC7t/VUcaqg97daAApLGEbkZFMKgnYAecl5OO1QJbDpaz76g5uy8vryjg7bX7sVktPHnDKO8VGcl3udO/Q64w+mkCHGulEMQTAPrwv4uKQERMpQAwBFgslkZp4FKvPW+RNwtA3Of/uuU0/BLqDPUE7LDU+CjG9DEaLH9qwi5g/t5SHnp/EwA/nzyQ8f288O9Bmtc4/TvkcqONEkBVK9NgPFXAUb5amXYARUymADBEuPsBerMQpKjCCAC9cv6vwEvpX7f+kyE2FSoL4ZvPvfOcYeRC91SQLf4NAEuqarn75TzqHC4uGpLJHWed4tfXDzuN07/dBkK8OwBs6xlAX+4AqgpYxEwKAEOE+xzg6j0lXmvvUezNCmBP/792zP89mYgo4ywgQP4r3nnOMOJuB7PimxLKjvtnFJfD6eKeV9dyoKyaU7rG85drhqvZs6950r+XG5fuHcDWikA6Mgu4vVQFLGIqBYAhYniPZGxWC0XlNRyoL97orMIyL6WAayrgoNHqo9Pn/xpzp4G3fgDHfTMJJVT1TotnQEYCdqeLz7cV++U1H1u4nS93HiY20sYz3xtNYkykX143bDVO/w6+3Lh0H79orRm0ikBEQp4CwBARFxXB4Cyj+aq30sDuFHCnA8C9K8HlhJTekNzdCyurlzUC0ocYuxUb3/be84YJ9y6gP9rBfLq5iH98thOAP101jAFq9ux72z5qSP+m5xi3tXUH0B9tYFQEImIqBYAhZLSX5wJ7LQXsmf/rpfSvm8UCI+sng6x71bvPHQbc7WCWbDtEjd3hs9fZc6SK+17PB+D7Z/ThspFe/BAgLds0z7h0p38B4rsZl62eAexgI+j20A6giKkUAIYQTyGIFxpCO50uir21A+gJAL2Y/nUbdi1YbLBvFRza7v3nD2HDuyeTnhhNZY2d5d/4Zqye0ex5DRXVdkb1SlGzZ39pLv0LDUUgbd0BbM8s4PZSEYiIqRQAhpBRvVIA2HygnOO1ndvROXqsljqHUUzSLbETvwTqqmF/nnHd2zuAAIkZ0P8C47p6AraL1Wrh/EH11cCbC73+/C6Xiwfe2ciWg+WkxRvNnqMi9JbjF570b05D+hcatYEJhEbQKgIRMZPejUNI95RYMpKisTtdrN9X2qnnKqzvAdg1IapzExoOrDHO6CVkQKqPWn407gno9F0qMxS528F8urnYa9Xjbq+u3Mtba/ZhtcCTN+SSlRzr1eeXk9j8jnE55Iqmt7uLQGorjQ9nLXH4oxG0UsAiZlIAGEIsFkvDOcBOpoEbzv91Nv3rnv873jiz5wsDLoKYFKg4oJ6A7TS+XxpxUTYKy6vZsN97U2TW7S3lt+8ZzZ5/NjmHM07t6rXnllYcL4Wdi4zrjdO/YPx/Yo0wrp8sDezZAfRlI2gVgYiYSQFgiPFMBNlT2qnn8doUEM/8Xx+kf90iohv1BFQauD1iIm2cPcAoDPDWbOCSqlrufmUNtQ4nFw7O4M6z1ezZr1pK/4LxISzO3QrmZAGgPxtBawdQxAwKAENM40KQzqT0irxRAeyww94VxnVvTQBpiacn4Hyo9t5OVjhwt4PxRgDocLr4ydy17C89Tt+u8fz12hFq9uxv7vTvibt/bm1pBeOpAlYbGJFQpQAwxAzJTiIqwkpJVS3fHun4G6tXxsAVrjfOGsUkQ/rgjj9PW2TnGv3O7NUN7S+kTc7LScdmtbC1sIK9JZ37Zfz3T7fzxY7DxERaefqmUSSp2bN/nTj7tzmecXAnaQbt1ypg7QCKmEEBYIiJjrAxrHsy0Ll+gEXemALinv/bazxYffxPrXFPQKWB2yUlLoqxfYyd487sAi7eWsQTi41mz7OvHEZOZpJX1iftsO0jcNTWp39baLnTllYwmgQiEvIUAIag0V7oB+jeAcxM7sQvAE//Px+nf92GXwcWq5F2PrzTP68ZItxNoTsaABYcOca9c/MB+N7pvbkit4e3libt0Vr6Fxq1gjnU8mP8UgWsFLCImRQAhqCGQpBOBID1ZwA7nAJ2OhsCwF5+CgATM+HUScZ1TQZpF3c7mJXfllB6rLZd31td5+CuV/Ior7YzsmcKD0xTs2dTVJe1nv6FRingFnYAnU5jFxG0AygSwhQAhqBRvVMA2FZUQXl1Xbu/3+5wcriyk21gDm+H4yXGp/ysER17jo4Y0Wg0nHoCtlnP1DhyMhNxOF18tq24Xd/74Lsb2XSgnNT4KP45fRTRETYfrVJOyp3+7Tqw5fQvNFQBH2vhDKB79w/8VwTidPrudUSkWQoAQ1B6Ygw9U2NxuYx+bO11uLIWlwtsVgtp8R3sA+bu/9djrG97iZ1o4FSj6KR8P+xe6r/X9abaY7DooYZebn7SkWrguSsLeH11Q7Pn7BQ1ezbNoW2A5bvNn0/U2g6gvXEA6Ic2MNBQdCIifqMAMESNrk8Dd6QQxD0FJD0xGqu1gy08/H3+zy0yBoZebVwPxmIQpxPm3QFf/A3m3enXXcxJ9WPhlmw7RI299dfdsK+MB+ubPf/0woFMULNnc036Dfx0K4z94ckf11obGE8AaGloGu0LEY0CQKWBRfxOAWCI8kwE6UAA2Okm0C6XeQEgwMjpxuWW96G63P+v3xmLfmusG6CqGPat8ttLD+ueTEZSNFW1Dr7edZIWIcDRqlrufDmPWruTSYMyuOvsfn5apZxUYiYkdDv5Y+Lr72+pDUzjJtC+7OFoiwBbfXZAhSAifqcAMETl1u8A5heU4nS2ryF0sScA7OD5n9I9xlg2ayR0H9Ox5+iM7qOg6wCwH2+oigwGeS/CV383rrvnJm+d77eXt1otnl3Ak6WBHU4X976Wz/7S4/ROi+Nv147o+E6x+J87BVxT1jTd6+aPAhA3zzlA7QCK+JsCwBCVk5lIXJSNiho7O4or2/W9RZ2dA+ze/cvOhai4jj1HZ1gsDZNBgiUN/M3n8MEs4/rZv4Tzf2Nc3zLf2FH1E/c5wE83F7X4weGJRTtYsv2Q0ex5+miSY9XsOajEpIClvlCnuUIQzw6gPwNA7QCK+JsCwBAVYbMysmcK0P40cKdTwO4CEDPSv27unoAFy+DILvPW0RaHtsFrN4PTbsw0PueXRjsbWzQc3Q3Fm/22lPH90kiIjqC4oob1+787Uu+zbcU8sXgHAH+4fBiDs9XsOehYrRCXalxvrhDEH02g3dQKRsQ0CgBDmKcfYDsbQjcuAumQPfUTQHpP6Nj3e0NSNpxyrnF93Vzz1tGaykPwyjVGOq7n6XDpP4wdzOgE6Hee8Zgt/ksDR0fYOHuAcUZs4ebCJvftLTGaPbtcMH1cL64arWbPQetkhSCNzwD6mnYARUyjADCEeSaCtHMHsLg+BZyZ3IFfABWFULILsEDP09r//d7kTgOvezUw+4zVVcPcG40zk136wPWvGFXMbjkXG5d+PAcIjdPADf0Aq+sc3P3KGsqO1zGiZwoPXuLj2c7iWyebB+zeAfTlHGA37QCKmEYBYAjL7ZUCwDeHqyipavt0B/cYuA6lgN3n/zKHQmxK+7/fm3IuhuhkKNsL335h7lpO5HTCu3fDvpVG38Ib32j4pew2cIqRxi5cD0f3+G1p5w5Mx2a1sK2ogoIjxs7Mb9/bxIb9ZXSJi1Sz51DgaQatFLBIuFIAGMJS4qI4NT0BaPsuYHWdg9JjxvSQjI6MgSsIgPSvW2QsDL3SuB5oo+E+/yNsfMvos3bt/6DbgO8+Jr5rwxi9rR/4bWnJcZGM62ucEftkcyGvr9rL3FV7sVjgiRty6a5mz8HP0wpGKWCRcKUAMMSNqt8FbOs5wEMVxqf/6AgrSbEdaAJrZv+/5rjTwJvfhZoKc9filv8qLP2Lcf2Sv8MpZ7f82EHTjEs/BoDQkAZ+ZUUBD7y7EYBZkwZwZv9WesxJcPCkgA999z5PGxg/TPDRDqCIaRQAhrj2NoQubFQBbGlvE9jjR6HImAxBr/Ht+15f6TEW0k41dhg2v2v2auDbL+G9HxvXJ94HuTed/PEDpxqXBV+3PLrLB9wB4O7DVdTanZyfk86Mc0/12+uLj51sHrB2AEXCggLAEOcOANftK6XO0XohhLsFTGZHzv8VrABckNYfEtLb//2+0KQnoMlp4MM7Ye50cNbB4MvgvAdb/54uvSFzOLicsO0j36+xXo8ucQzKMlq89EqN49FrR6rZcyg52TxgnQEUCQsKAEPcKV0TSIqJoLrOydaDradA3U2g0zsyBSQQ+v81Z/j1gAX2fAklu81Zw7ESmHMNVJdC99Fwxb+MfmxtMegS49LP1cCzLhjA+FPSePbm0STHqdlzSDlpGxgzqoC1Ayjib34JAH/7299isViafOXk5Hjur66uZsaMGaSlpZGQkMBVV11FUVHLo6ik7axWC6M8aeCSVh9f3Jkm0IF2/s8tuTucco5x3YyegPYaY+ev5BtI7gU3zG34xdcW7nYwuz6DmvZNdemMCwZn8Oodp5OTqWbPISdgdgA1Ck7ELH7bARwyZAgHDx70fH355Zee++677z7ef/993njjDZYsWcKBAwe48sor/bW0kDe6viF0XkFpq48t6ugc4NoqOJhvXA+0ABBg5HTjct0c//YEdLngvXuMM3zRSXDja+1Pj6cPhi59wVEDOz/1zTolvLh3AKtLwVHX9D6/ngFUCljELH4LACMiIsjMzPR8de1qvAGVlZXxn//8h0cffZTzzjuP0aNH8/zzz/P111+zfPlyfy0vpI1qR0Powo7uAO5bZYwyS+4JKb3avUafy7nYCMBKC4xgzF+W/hXWzzVmr17zPGR0oIGyxdKoGti/aWAJUXGpQP2ZzmMnZAYc7h1Af1QBqwhExCx+CwB37NhBdnY2p5xyCtOnT6egoACAvLw86urqmDRpkuexOTk59OrVi2XLlvlreSFtRM8UrBbYX3qcwrLqkz7WPQWk3QGgO/0bKNW/J4qKgyGXG9fz5/jnNTe8CZ89bFyf+hdjvm9H5dSfA9z+Cdjb3tRbpFlWW6N5wCe0gvGkgLUDKBLK/BIAjhs3jhdeeIEFCxbw9NNPs3v3bs4880wqKiooLCwkKiqKlJSUJt+TkZFBYWFh808I1NTUUF5e3uRLmpcQHeE5x9VaP8Ciju4ABur5v8bcaeBN7/j+LF3BCnjnbuP6+Jkw9rbOPV+PsRCfbswMDrSpJhKcWioE8aSAVQQiEsr8EgBOmTKFa665huHDhzN58mQ+/PBDSktLef311zv8nLNnzyY5Odnz1bNnTy+uOPS0ZS5wZY2dqloHAOmJ7Xjzt9caKWAIjAkgLek5DlJPgboq2PK+716nZDfMvcFIpQ2cChc81PnntFohp74noNLA4g0tFYK4d5j9UgWsIhARs5jSBiYlJYUBAwawc+dOMjMzqa2tpbS0tMljioqKyMzMbPE57r//fsrKyjxfe/fu9fGqg9uo3ikA5J1kB9C9+5cYHUF8dDumgBxYa+waxHWFrv07s0zfslhghLsn4Cu+eY3jpTDnWqPBbtYIuOo5I93mDe408NYP/VvIIs2aPXs2Y8eOJTExkfT0dC6//HK2bdvW5DEB3eGgpWbQKgIRCQumBICVlZXs2rWLrKwsRo8eTWRkJIsWLfLcv23bNgoKChg/vuXzZNHR0SQlJTX5kpaN7mWc99m4v4zqOkezjymqPx+YkdzON353UUXv8UaQFchG1PcE/PYLOLrHu8/tqIPXb4bD2yExG254DaLivff8fc+EqESoLIT9ed57XumQJUuWMGPGDJYvX87ChQupq6vjwgsvpKqqyvOYgO5w0OIOoBltYKpO/jgR8boODHttv//3//4fl1xyCb179+bAgQP85je/wWazccMNN5CcnMxtt93GrFmzSE1NJSkpiR//+MeMHz+e008/3R/LCws9U2PpmhDN4coaNu4vY0yf1O88pqiigy1gPOf/Ajj965bSE/qeBbuXGD0Bz/mFd57X5YL59xnPGxlvtHtJyvLOc7tFRMOAC2HjW7D1feg51rvPL+2yYMGCJn9+4YUXSE9PJy8vj7POOsvT4WDOnDmcd955ADz//PMMGjSI5cuXm//+Fl8/1/nEM4AOTQIRCQd+2QHct28fN9xwAwMHDuTaa68lLS2N5cuX062b8Qb02GOPMW3aNK666irOOussMjMzefvtt/2xtLBhsVgY1SsFaLkQxD0FJCOxHTuATgcU1LfrCdQK4BM17gnocnnnOb/6O6z9H1isRruXrOHeed4T5dS3g9ky33trF68oKysDIDXV+HDVkQ4Hfi1uiwukHUAFgCL+5pcdwLlzTz59ISYmhqeeeoqnnnrKH8sJW6N7d+GTzUXktVAI4j4DmN6eCuCiTVBTbqQmM4d5Y5m+N2gafJAAR7+FgmWdr1ze/B58+hvj+uTZMGByp5fYov4XgC0KSnbBoa2QPsh3ryVt5nQ6uffee5kwYQJDhw4F6FCHg9mzZ/O73/3O18s1xNefAfxOAGjGGUBVAYv4m2YBh5HRnpFwpbia2T1q6AHYjk/+nv5/p3uv2MHXouIb9QTsZDHI/jx4+w7j+ml3wOl3du75WhOd2DDWTtXAAWPGjBls3Lix1Q+7rfFrcVuLbWDqq4D9mQJ22r87kUREfEoBYBgZ2j2ZSJuFw5U17Dv63ZSLewpIZnt2APd8ZVz2DpL0r5unJ+C7xhi7jijdC3OuB/txOPUCY/fPHxqngcV0M2fOZP78+Xz22Wf06NHDc3tHOhz4tbitxSKQ+h1Af7SBaVwkpV1AEb9SABhGYiJtDMlOBmg2DdzuFLDLZaRQITgKQBrrNR669IHaio4FUtXlRruXqmJIH2Kc+7P55USF0VsQizF7uVTtj8zicrmYOXMm8+bNY/HixfTt27fJ/R3tcOA37h3A40eNs7xu/pwEYosyzs2CzgGK+JkCwDDTkAZuGgC6XK72p4CP7DTGSEXEQHauV9fpc53pCeiww5u3QvFmSMgwKn6jE72/xpYkdDNS7gDbPvTf60oTM2bM4OWXX2bOnDkkJiZSWFhIYWEhx48bgUzjDgefffYZeXl53HrrrYHT4cA9Cg5X03nA/qwCtlg0D1jEJAoAw4xnIsgJlcClx+qodRjNhbu1dQqIO/3bfYx/fll424jrjcvdS9u+k+ZywUc/h52fQkQs3DDXaC3jb540sA8nmshJPf3005SVlXHOOeeQlZXl+Xrttdc8jwnoDge2SIg13g+anAP05yg4UCsYEZMoAAwzo3oZb/hbDpZTVWP33O7uAZgaH0V0RBuLOfa4078BPP/3ZLr0hj5nAi5Y38bD+8ufhtX/ASxw1b+h+yhfrrBlg+oDwD1fN929Eb9xuVzNfn3/+9/3PMbd4aCkpISqqirefvvtk0448rvmWsH4sw0MKAAUMYkCwDCTmRxD95RYnC5Yt7fUc3uhewpIuwpA3A2ggzQABBjpTgO3oSfgto/g418Z1y94CAZd4tu1nUyXPpAxDFwOY10iHeEpBDlkXLpc/j0DCEoBi5hEAWAYGtXMOcB2n/8r3QtlBWCxQY8gnkgx6FJjckfJN7B3RcuPO7gO3rwNcMGoW+CMH/ttiS3Kudi43PqBueuQ4HXiPGBHHVD/QcgW5Z81aAdQxBQKAMNQcxNB3BXAbZ4C4q7+zR4J0QleXJ2fRSe03hOw/ADMuc6YV3rKOXDx3wJj5rE7DbxrUcdb2Uh4O7EVjPv8H2gHUCTEKQAMQw2FIKU4ncan/XbPAfb0/wvi9K/biBuMy03vQO0Jv4RqKo3gr+IgdMuBa140Ds8HgoyhkNLb+KW9c1Hrjxc50YnNoB21DffpDKBISFMAGIYGZSURE2ml7Hgd3xyuBBrmALe5B6BnAkgIBIC9J0BKL2OkXeN0qtMBb/0QCtcbvyhvfA1iU0xb5ndYLA3nEJUGlo5oaQfQFuW/XW6NgxMxhQLAMBRpszKiRwoAa/aUAg0p4DZNAak8BIe3G9d7BUA/s86yWpvvCfjJA7D9I2Miwg2vGoUXgcZ9DnD7RxqlJe0X3824dJ8B9HcBCDRKAWsHUMSfFACGqRMLQTxnANsSALrP/6UPadRMNsi5ewJ+8zmU7YeV/4bl/zRuu+Jp6HmaaUs7qZ7jjN3J6jL49kuzVyPBxl0E4tkB9HMLGFAKWMQkCgDNdKwEvv0KnE6/v/To+n6AeQVHcThdHKpoRxWwp/1LAIyz8pbUvvXj7Fww/z746BfG7ec9AEOvMnVpJ2W1Qc5U4/pWzQaWdjqxDYw/5wC7qQhExBQKAP3NYYftH8PrN8PfBsILU+HT3/h9Ge4dwJ3FlXxzqBKnC6wWSEtoSwAYQgUgjbl7Au742OivN+JGOPP/mbumtnBPBdn6oSkfJiSIeeYBlxj/drQDKBI2FAD6S9Em+Pj/4NFBMOda2PxuQ8Xdsn/A3pV+XU5qfBR9u8YDsGBjIWCMgLNZWzn4XV0GRRuN66FQANLY4MsadiN6T4RL/h4Y7V5a0/dsiEqAigNwYK3Zq5Fg4k4Bu5xw/GijOcD+PAOoIhARMygA9KWqI7DiX/Cvs+DpM4xAr6rY+NR9+t3woy9g+HXGm+87d/v9E7B7LNyH9QFgmwpA9q401tulLyRl+XJ5/hedCFP+DMOugev+BxF+aoTbWZEx0P8C4/pWzQaWdoiIguhk4/qxw412AP34b19FICKmiDB7ASHHUQc7FhrVpNs/Bmd9ZaY1EgZMhpHTjV/W7l5yF/0Jdn0GR3bA57ONEWN+Mrp3F95as48tB8uBNraA8aR/J/hwZSYadbPxFWxypsGmeUY7mEm/NXs1Ekzi06CmzCgEcZ8BNGMH8MQenCLiUwoAvaVwgzFPdv3rDU1VAbJGGEHf0KuNN9oTxaXCJY/D3Bvh6yeN0WQ9xvhlyaN6pzT5c9sKQOorgEPt/F+w63+B8SHj8HY4tB26DTB7RRIs4rsZoxCPHQZ7/bEUv54BVBGIiBkUAHZG5SHY8Aasm2MEgG7x6TD8WqOoIGNI68+Tc7GRdtzwhpEK/tFSI63nY/3TE0mMjqCixg60YQxc3XHYn2dcD6UK4FAQkwynnA07PzXSwN1+avaKJFjENWoG7Z7/69cqYBWBiJhBAWB72WuNKtH8V41LpxE8YYuCgVOMytFTz2//uLApjxg96A5vgyV/hkm+rwy2WS2M7JXCFzuMHctWewDuW22ktBOzjDOAElhyphkB4Jb5cKYCQGmj+Ea9AN19PbUDKBLyFAC2hcsFB9fBuleNFO/xkob7skcZO31Dr+pcU+S4VJj2GLx2E3z1OAyaBt1Hd3rprRndu0tDAJjcSgBY0Cj9GwzVseFm4FSjh+GBNUYz6+TuZq9IgkHjecDRCcZ1U6qA27ADuPldqCiCfudC1/6+XZdIiFMAeDKVxUbAlz8Hijc13J6Q2ZDiTR/kvdcbdIkRSG58C96ZAT9a4vNP4u5KYGjDGUB3AUgvpX8DUmKGMbFk7wrY9iGcdrvZK5Jg0HgecGKmcd2vVcDtCADzXoRdi+DSfygAFOkkBYAnstfA9gVG0LdjodEQGIwUb87FRkHHKeeCzUc/uil/gW+WwKEtsOQROP/XvnmdeiN7pRBhteB0uchKim35gY66hl6FoVoBHApyphkB4Jb3FQBK2zTeATR1FnAbUsBHdxuXqTqCItJZCgDBSPEeWGsEfRvfNBqiunUfU5/ivRJiu7T8HN4SnwbTHjUmhXz5mJEKzs712cslxUTy1PRR1NidJMed5NziwfXGG3RsF+iW47P1SCflXAwLf23MBT5WEjqzmsV3PGcAj5gcALayA+h0QGmBcb1LH58uSSQchHcAWFEI618zAr9DWxtuT8yCEdcbBR1mtNMYfBkMucLo6/bO3XDHEp+mZCYPyWz9QZ707xlgVf/wgJXWD9IHQ/Fm2PGJ8e9Y5GTiuxmXjXcAbSY0grYfN8bRtfT+UrbPKLqzRUFitv/WJxKiwjMAPLgOFj9sVEy66menRsQY6bORNxgpXqvN3DVO/SvsXmr8Il/6Fzjv/8xdz56vjUu1fwl8OdOMfzdb3lcAKK3zpICPNKRhzSgCAaMRdVRc8487+q1xmdJbH0JFvCA8/y+y2IzdEZcTeo6DaY/DT7fB1f+BUyeZH/yBcTD74r8Z17/4GxzIN28tTmfTCmAJbIOmGZc7F2m6grTOXQTitEPVIeO6X9vANAoAT5YGdgeASv+KeEV4BoCZQ40RbDPz4LZPYMytEJti9qq+a8gVRjrY5YB3ZzR06fe3Q1uguhQi4yFzhDlrkLbLHA7JvYyU2jefmb0aCXQR0RCVaFwv29dwm79YbQ2Np09WCKICEBGvCs8AEOD0u6DrqWavonVT/waxqVC00dgJNIM7/dvzNN9VP4v3WCxGMQgYTaFFWuMuBCnfb1z6MwCEtrWC0Q6giFeFbwAYLBK6wcV/Na5/8VejGtffPOf/1P4laLjTwNs/Aofd3LVI4Gt8DhD8ewYQ2tYKpqR+B1BTiES8QgFgMBhypdEk2mk3qoIddf57bZerUQCo839Bo+fpEJdmtDRyV3CLtMR9DtDNn1XAoB1AERMoAAwGFgtc/KjRg69oA3zxqP9eu+QbqCw0fiH4YTSdeIktAgZMMa5v/cDctUjgOzEADLQdwONHjXPIoABQxEsUAAaLhHSjNQzA0kegcKN/Xtdd/dt9NET6+ZeCdI47Dbz1A2MnV6QlcWYHgK3sALp3/xIyWm4TIyLtogAwmAy9yujx5rTDu35KBSv9G7xOOdeo3C7fZ0y6EWnJd3YAAywFrPSviNcpAAwm7lRwTIrRzPqrx33/mo0ngEhwiYyB/pOM60oDy8mYvgPYSgpYBSAiXqcAMNgkZsDUvxjXP/8zFG323WuVHzA+eVusRgsYCT457jSw2sHISXxnBzDA2sBoB1DE6xQABqNh18DAqeCsg3fu8l2bD3f6N3M4xCT55jXEt/pfCNYIY9b14Z1mr0YCVVxa0z/b/B0AtrIDqCbQIl6nADAYWSww7TGISYaD+fD1333zOjr/F/xiU6DvWcb1re+buhQJYPHdmv7ZtB3AlgLAb41L7QCKeI0CwGCVmAkX/dm4/vmfoHiL919D839Dg3sqiM4BSktMbwNzkhSwvbZhRJ3OAIp4jQLAYDbieug/GRy19Q2ivZgKPlYCxfXnC3uN997ziv8NrA8A962C8oPmrkUCU2SsUTHu5vcdwJOkgMv2gssJEbFGOywR8QoFgMHMYoFLHofoZDiwBpY96b3ndu/+dR343d0BCS5JWdBjrHF9m3YBpQXxjc4BBlIRSOP0r8XirxWJhDwFgMEuKRsumm1c/+yPULzVO8+r83+hxV0NvEXVwNKCxq1gAqkIRAUgIj6hADAUjLwRTr3ASAW/66VUsCcAnND55xLzuQPAb7+A46WmLkUClHun32IzRgn6U1t3AEXEaxQAhgKLBS75O0Qnwf48WP5U556vptJoNA3QW+f/QkLXU6FbjjFFZscnZq9GApF7B9DfBSBw8gBQTaBFfEIBYKhI7g6T/2hcX/wHOLS948+1byW4HJDSC5J7eGd9Yj5PGljtYKQZ7h1Af5//g1ZSwHuMS+0AiniVAsBQknsT9DsfHDVGKtjp6NjzKP0bmtztYHYuannigoQvUwPAFnYAXa6GM4AKAEW8SgFgKLFY4NInICrRaPmx/J8dex53AKj2L6ElOxeSekBdFXzzudmrkUATZ2IAGFXfgubEHcBjR6C2ErAYGQkR8RoFgKEmuQdM/oNxffHD7R//Za+BfauN69oBDC0WS8MuoKqB5UTuaSARsf5/7ZZ2AN0FIEnZEGnC2USREKYAMBSNuhlOORfs1fDujPalgvevMVLI8emQ1s93axRzDKo/B7jtQ9/NkJbg1GeCMTv69Dv9/9qeM4AnBIAqABHxGQWAochigUufNFLBe5fDin+1/Xv3fGVc9h6vpquhqNcZENsFjpcY/zaCQcEK2Jdn9ipCX1Q8TH8DRn/f/6/d0ixgtYAR8RkFgKEqpSdc+Hvj+qKH4Miutn2fCkBCmy0CBkwxrgdDGnjHp/DSZfDKVe0/ziDBwx0AOu3gqGu43dMEuo/flyQS6hQAhrLR34dTzgH78fpUsPPkj3fYYe9K47omgIQudxp463yjyjJQbXgTXr3O+PfbfbQx0k5CkzsFDE13AT07gEoBi3ibAsBQZrHAJU9AVIIx23flsyd/fNEGqK0wZgunD/bPGsX/+p1n/MIt2wuF681eTfNWPQdv/dDYERpyJVz/akOlqIQeWxRY6n8dNT4HWKIWMCK+ogAw1HXpDRc8ZFz/9LcnTwV72r+cDlabz5cmJomMNYJACLw0sMsFS/8CH/wUcMGYH8BVz0FElNkrE1+yWL7bDLquGioOGNe1AyjidQoAw8HoW6HvWUYq7b0ft5wK9pz/U/o35A26xLjcGkABoNMJH/+f0b4I4KyfwcWPBv2Hkaeeeoo+ffoQExPDuHHjWLlypdlLCkwntoIpLTAuoxIhLtWcNYmEMAWA4cBqNaqCI+ONKt9Vz333MS6XAsBwMmAyWGxQvLntBUK+5LAb51Tdc6wnz4bzHgj6SvTXXnuNWbNm8Zvf/IY1a9YwYsQIJk+eTHFxsdlLCzwnBoCNC0CC/N+BSCBSABguuvSBC35nXP/0Nw1na9wObTNag0TEQtZIf69O/C22C/SZaFzf+oG5a6mrhte/B+vmGEHp5U/D+LvNXZOXPProo9x+++3ceuutDB48mGeeeYa4uDj++9//mr20wHNiClgtYER8SgFgOBlzG/Q503iDPTEVXFC/+9dzrM5bhYtASANXl8PLVxmNqW3RcN3LMPJG89bjRbW1teTl5TFp0iTPbVarlUmTJrFs2bJmv6empoby8vImX2HjxB1ANYEW8SkFgOHEkwqOg2+/gNX/abjPUwCi9G/YcI+F27sSKor8//pVh+HFabDnS+Oc101vQc5U/6/DRw4fPozD4SAjI6PJ7RkZGRQWFjb7PbNnzyY5Odnz1bNnT38sNTC4dwBrq4xL7QCK+JQCwHCT2hcm1aeCF/7GeJPV+b/wlJRt9NfDZezA+VPpXvjvZDi4DuLS4PvvQ98z/buGAHT//fdTVlbm+dq7d6/ZS/Kf75wB/Na4VAAo4hMKAMPR2B8akz7qqoxUcOkeKN8P1gjoMdbs1Yk/uXcB/ZkGPrTNCP6O7ISkHvCDjyE713+v7yddu3bFZrNRVNR0d7WoqIjMzMxmvyc6OpqkpKQmX2Gj8Tg4l6shAExVCljEFxQAhiOrFS77h1HwsXspvDvTuD07F6LiTv69Elpy6s8BfrMEqst8/3r718B/LzI+cHQdALd9DF37+/51TRAVFcXo0aNZtGiR5zan08miRYsYP368iSsLUJ4ikONQWWS0rbLYIDmM0uAifqQAMFylngKTfmtc//YL41Lp3/DTbYARiDnrYMdC377WN0vgxUuMavPsXLh1AST38O1rmmzWrFn8+9//5sUXX2TLli3cddddVFVVceutt5q9tMDTOAXsLgBJ7gG2SPPWJBLCIsxegJjotDtg8zvGmDgw0sISfnIuhi+3G2ngYVf75jW2zIc3bwVHrdGU/Po5EJ3om9cKINdddx2HDh3iwQcfpLCwkJEjR7JgwYLvFIYITdvA6PyfiM9pBzCcWa1w2VPGG29UAvQcZ/aKxAzuNPCOhUZPPm9b+7LR589RCznT4MY3wiL4c5s5cyZ79uyhpqaGFStWMG6c/j9rVuMdQE8TaJ3/E/GVgAsANTbJz9L6wZ1fwu2LITbF7NWIGbJzITEbaith9xLvPvfXTxoTPlxOyL0JrnkRImO8+xoSGhoXgWgHUMTnAioA1Ngkk6T1g24DzV6FmMVqbagG3vK+d57T5YJPfwefPGD8+Ywfw6X/AJtOnUgLGheBKAAU8bmACgA1NknEJO4AcNtH4HR07rmcDph/L3z5qPHn838DF/xe81zl5JorAtEUEBGfCZgAsCNjk0TES/pMhJgUOHYY9q7o+PPYa+HNH0DeC4AFpj0OZ85S8Cetc+8AHjsMVfVZH+0AivhMwASA7R2bFNYzM0W8zRYJAy4yrm/pYFPomkp49TqjstwaCdc8D2PU7kTayB0AFm81LmO76FyyiA8FTADYXmE9M1PEFwZNMy63zjfO8LXHsRL43+Wwa7Hxi/zG12DIFV5fooQwdwBYU9+QXLt/Ij4VMAFge8cmhfXMTBFf6HceRMQYowGLNrb9+8oPwvNTYd8qI41883tw6vk+W6aEKPcZQDcFgCI+FTABYHvHJoX1zEwRX4iKh371gVtb08BHdsF/L4RDWyAhE279CHpqnrR0wHcCQBWAiPhSwASAoLFJIqZrnAZuTeEGY65vaYExWvC2jyFjsG/XJ6Er8oQ55NoBFPGpgGrKpbFJIiYbcBFYbEYKuGR3y5MY9iyDOdcZ57UyhsH33oaEdP+uVULLiTuAmgIi4lMBtQMIGpskYqq4VOh9hnF96wfNP2b7J/C/K4zgr9d4+P58BX/SedoBFPGrgAsARcRkg+pnAzeXBl7/Bsy9AezHof9kuOltteoQ72i8A2iNhKTu5q1FJAwoABSRptxTQQqWQ+WhhttX/hvevh2cdhh2DVz/CkTFNf8cIu3VOABM6QVWm3lrEQkDCgBFpKnkHpA1EnDBtg+NnoCf/xk+/H/GbafdAVc8azSPFvEWqw1s0cZ1pX9FfC6gikBEJEAMmgYH82HL+1C8GVY8Y9x+zv1w9i802k18IzIWHDUqABHxA+0Aish35dSfA9y5sCH4m/IInPNLBX/iO+5CEO0AivicAkAR+a5uAyG1n3HdYoMr/w3jfmTumiT0uc8Bqgm0iM8pABSR77JY4MxZRhB4/RwYfq3ZK5JwMOJ6yBwGfSaYvRKRkKczgCLSvNybjC8Rfzn758aXiPicdgBFREREwowCQBEREZEwowBQREREJMwoABQREREJMwoARURERMKMAkARERGRMKMAUERERCTMKAAUERERCTMKAEVERETCjAJAERERkTCjAFBEREQkzCgAFBEREQkzCgBFREREwowCQBEREZEwowBQREREJMwoABQREREJMxFmL8BbXC4XAOXl5SavRETM5H4PcL8nBDO9r4mIr97TQiYArKioAKBnz54mr0REAkFFRQXJyclmL6NT9L4mIm7efk+zuELhYzLgdDo5cOAAiYmJWCyWVh9fXl5Oz5492bt3L0lJSX5YYeDSz6KBfhYNgvVn4XK5qKioIDs7G6s1uE+56H3N//Qz7Dz9DDuv8c8wMTHRJ+9pIbMDaLVa6dGjR7u/LykpSf9A6+ln0UA/iwbB+LMI9p0/N72vmUc/w87Tz7Dz3D9DX7ynBffHYxERERFpNwWAIiIiImEmbAPA6OhofvOb3xAdHW32Ukynn0UD/Swa6GcRfPTfrPP0M+w8/Qw7zx8/w5ApAhERERGRtgnbHUARERGRcKUAUERERCTMKAAUERERCTMKAEVERETCTFgGgE899RR9+vQhJiaGcePGsXLlSrOXZIrZs2czduxYEhMTSU9P5/LLL2fbtm1mLysg/OlPf8JisXDvvfeavRRT7N+/n5tuuom0tDRiY2MZNmwYq1evNntZchJ6X2u7pUuXcskll5CdnY3FYuGdd95pcr/L5eLBBx8kKyuL2NhYJk2axI4dO8xZbIBqy++P6upqZsyYQVpaGgkJCVx11VUUFRWZtOLA8/TTTzN8+HBPs+fx48fz0Ucfee739c8v7ALA1157jVmzZvGb3/yGNWvWMGLECCZPnkxxcbHZS/O7JUuWMGPGDJYvX87ChQupq6vjwgsvpKqqyuylmWrVqlX861//Yvjw4WYvxRRHjx5lwoQJREZG8tFHH7F582b+9re/0aVLF7OXJi3Q+1r7VFVVMWLECJ566qlm73/kkUd44okneOaZZ1ixYgXx8fFMnjyZ6upqP680cLXl98d9993H+++/zxtvvMGSJUs4cOAAV155pYmrDiw9evTgT3/6E3l5eaxevZrzzjuPyy67jE2bNgF++Pm5wsxpp53mmjFjhufPDofDlZ2d7Zo9e7aJqwoMxcXFLsC1ZMkSs5dimoqKClf//v1dCxcudJ199tmun/zkJ2Yvye9+8YtfuCZOnGj2MqQd9L7WcYBr3rx5nj87nU5XZmam6y9/+YvnttLSUld0dLTr1VdfNWGFweHE3x+lpaWuyMhI1xtvvOF5zJYtW1yAa9myZWYtM+B16dLF9dxzz/nl5xdWO4C1tbXk5eUxadIkz21Wq5VJkyaxbNkyE1cWGMrKygBITU01eSXmmTFjBhdffHGTfyPh5r333mPMmDFcc801pKenk5uby7///W+zlyUt0Puad+3evZvCwsImP8/k5GTGjRunn+dJnPj7Iy8vj7q6uiY/x5ycHHr16qWfYzMcDgdz586lqqqK8ePH++XnF1YB4OHDh3E4HGRkZDS5PSMjg8LCQpNWFRicTif33nsvEyZMYOjQoWYvxxRz585lzZo1zJ492+ylmOqbb77h6aefpn///nz88cfcdddd3HPPPbz44otmL02aofc173L/zPTzbLvmfn8UFhYSFRVFSkpKk8fq59jUhg0bSEhIIDo6mjvvvJN58+YxePBgv/z8IrzyLBL0ZsyYwcaNG/nyyy/NXoop9u7dy09+8hMWLlxITEyM2csxldPpZMyYMfzxj38EIDc3l40bN/LMM89wyy23mLw6EQk04f77ozMGDhxIfn4+ZWVlvPnmm9xyyy0sWbLEL68dVjuAXbt2xWazfaeKpqioiMzMTJNWZb6ZM2cyf/58PvvsM3r06GH2ckyRl5dHcXExo0aNIiIigoiICJYsWcITTzxBREQEDofD7CX6TVZWFoMHD25y26BBgygoKDBpRXIyel/zLvfPTD/Ptmnp90dmZia1tbWUlpY2ebx+jk1FRUVx6qmnMnr0aGbPns2IESP4+9//7pefX1gFgFFRUYwePZpFixZ5bnM6nSxatIjx48ebuDJzuFwuZs6cybx581i8eDF9+/Y1e0mmOf/889mwYQP5+fmerzFjxjB9+nTy8/Ox2WxmL9FvJkyY8J12Dtu3b6d3794mrUhORu9r3tW3b18yMzOb/DzLy8tZsWKFfp6NtPb7Y/To0URGRjb5OW7bto2CggL9HE/C6XRSU1Pjn5+fV0pJgsjcuXNd0dHRrhdeeMG1efNm1x133OFKSUlxFRYWmr00v7vrrrtcycnJrs8//9x18OBBz9exY8fMXlpACNcq4JUrV7oiIiJcf/jDH1w7duxwvfLKK664uDjXyy+/bPbSpAV6X2ufiooK19q1a11r1651Aa5HH33UtXbtWteePXtcLpfL9ac//cmVkpLievfdd13r1693XXbZZa6+ffu6jh8/bvLKA0dbfn/ceeedrl69erkWL17sWr16tWv8+PGu8ePHm7jqwPLLX/7StWTJEtfu3btd69evd/3yl790WSwW1yeffOJyuXz/8wu7ANDlcrmefPJJV69evVxRUVGu0047zbV8+XKzl2QKoNmv559/3uylBYRwDQBdLpfr/fffdw0dOtQVHR3tysnJcT377LNmL0laofe1tvvss8+afe+75ZZbXC6X0Qrm17/+tSsjI8MVHR3tOv/8813btm0zd9EBpi2/P44fP+66++67XV26dHHFxcW5rrjiCtfBgwfNW3SA+cEPfuDq3bu3KyoqytWtWzfX+eef7wn+XC7f//wsLpfL5Z29RBEREREJBmF1BlBEREREFACKiIiIhB0FgCIiIiJhRgGgiIiISJhRACgiIiISZhQAioiIiIQZBYAiIiIiYUYBoIiIiEiYUQAoIiIiEmYUAIqIiIiEGQWAIiIiImFGAaCIiIhImFEAKCIiIhJmFACKiIiIhBkFgCIiIiJhRgGgiIiISJhRACgiIiISZv4/P3kwQJ7k1kIAAAAASUVORK5CYII=' width=640.0/>\n",
       "            </div>\n",
       "        "
      ],
      "text/plain": [
       "Canvas(toolbar=Toolbar(toolitems=[('Home', 'Reset original view', 'home', 'home'), ('Back', 'Back to previous …"
      ]
     },
     "metadata": {},
     "output_type": "display_data"
    }
   ],
   "source": [
    "fig,ax = plt.subplots(ncols=2)\n",
    "ax[0].plot(temp[:,0])\n",
    "ax[0].plot(temp1[0,:])\n",
    "ax[1].plot(temp[0,:30])\n",
    "ax[1].plot(temp1[0,:30])\n",
    "plt.tight_layout();"
   ]
  },
  {
   "cell_type": "code",
   "execution_count": null,
   "id": "ac5889a7-f864-43ca-b2e7-50199c21a661",
   "metadata": {},
   "outputs": [],
   "source": [
    "def eval_cluster(signal, labels, varargin='in'):\n",
    "    '''\n",
    "    Evaluate the statstics of the given cluster.\n",
    "    Several statstics are available: \n",
    "    'in':   within-class distance\n",
    "    'out':  between-class distance\n",
    "    'all':  total distance\n",
    "\n",
    "    Input\n",
    "    signal      -  sample matrix, dim x n\n",
    "    labels      -  labels for the signal provided\n",
    "    varargin\n",
    "        type  -  statstics type, {'in'} | 'out' | 'all'\n",
    "\n",
    "    Output\n",
    "    val     -  value of the specific statstic\n",
    "    '''\n",
    "\n",
    "    k = np.unique(labels).shape[0]\n",
    "\n",
    "    # within-class\n",
    "    ins = np.zeros(k);\n",
    "    for c in range(k):\n",
    "        X = signal[:, np.where(labels==c)[0]]\n",
    "        X = zero_center(X)\n",
    "        ins(c) = norm(X, 'fro');\n",
    "    in = ins * ins';\n",
    "\n",
    "% total\n",
    "X = cenX(X0);\n",
    "all = norm(X, 'fro');\n",
    "all = all * all;\n",
    "\n",
    "% between-class\n",
    "out = all - in;\n",
    "\n",
    "if strcmp(type, 'in')\n",
    "    val = in;\n",
    "elseif strcmp(type, 'out')\n",
    "    val = out;\n",
    "elseif strcmp(type, 'all')\n",
    "    val = all;\n",
    "else\n",
    "    error('unknown type');\n",
    "end"
   ]
  },
  {
   "cell_type": "code",
   "execution_count": 27,
   "id": "69146ac3-0cf2-4302-a635-9e0b7c510832",
   "metadata": {},
   "outputs": [
    {
     "name": "stderr",
     "output_type": "stream",
     "text": [
      "C:\\Users\\lab\\katenv\\lib\\site-packages\\sklearn\\cluster\\_kmeans.py:870: FutureWarning: The default value of `n_init` will change from 10 to 'auto' in 1.4. Set the value of `n_init` explicitly to suppress the warning\n",
      "  warnings.warn(\n"
     ]
    }
   ],
   "source": [
    "kmeans = KMeans(n_clusters=20)\n",
    "labels = kmeans.fit_predict(temp.T)"
   ]
  },
  {
   "cell_type": "code",
   "execution_count": null,
   "id": "daa0a067-eafc-48ad-a252-20f551c0d0e8",
   "metadata": {},
   "outputs": [],
   "source": [
    "def temp_reduction(signal, n_clusters, max_frames, method='merge'):\n",
    "    '''\n",
    "    signal - array to temporally reduce\n",
    "    n_clusters - into how many clusters to separate the frames. more clusters -> more subtltly\n",
    "    max_frames - maximum how many frames to merge/average over\n",
    "    method - {'merge'} | 'avg'\n",
    "            method to use. by default merge the consecutive frames belonging to the same class. \n",
    "            'avg' - average over them\n",
    "    '''\n",
    "    \n",
    "    % kmeans to discretize\n",
    "    [dim, n0] = size(X0);\n",
    "    if dim > 1\n",
    "        G0 = kmean(X0, kF);\n",
    "        XD0 = G2L(G0);\n",
    "    else\n",
    "        XD0 = X0;\n",
    "    end\n",
    "    \n",
    "    # kmeans to discretize\n",
    "    dim, n = signal.shape\n",
    "    if dim > 1:\n",
    "        kmeans = KMeans(n_clusters=n_clusters)\n",
    "        labels = kmeans.fit_predict(signal.T)\n",
    "    else:\n",
    "        labels = X"
   ]
  }
 ],
 "metadata": {
  "kernelspec": {
   "display_name": "Python 3 (ipykernel)",
   "language": "python",
   "name": "python3"
  },
  "language_info": {
   "codemirror_mode": {
    "name": "ipython",
    "version": 3
   },
   "file_extension": ".py",
   "mimetype": "text/x-python",
   "name": "python",
   "nbconvert_exporter": "python",
   "pygments_lexer": "ipython3",
   "version": "3.10.9"
  }
 },
 "nbformat": 4,
 "nbformat_minor": 5
}
